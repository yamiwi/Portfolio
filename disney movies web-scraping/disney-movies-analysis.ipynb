{
 "cells": [
  {
   "cell_type": "markdown",
   "id": "21d56c2a",
   "metadata": {
    "papermill": {
     "duration": 0.011897,
     "end_time": "2023-10-17T08:37:58.489827",
     "exception": false,
     "start_time": "2023-10-17T08:37:58.477930",
     "status": "completed"
    },
    "tags": []
   },
   "source": [
    "# Import packages"
   ]
  },
  {
   "cell_type": "code",
   "execution_count": 1,
   "id": "7bc7f2e0",
   "metadata": {
    "execution": {
     "iopub.execute_input": "2023-10-17T08:37:58.516705Z",
     "iopub.status.busy": "2023-10-17T08:37:58.516256Z",
     "iopub.status.idle": "2023-10-17T08:38:00.585892Z",
     "shell.execute_reply": "2023-10-17T08:38:00.584798Z"
    },
    "papermill": {
     "duration": 2.086783,
     "end_time": "2023-10-17T08:38:00.588564",
     "exception": false,
     "start_time": "2023-10-17T08:37:58.501781",
     "status": "completed"
    },
    "tags": []
   },
   "outputs": [],
   "source": [
    "from bs4 import BeautifulSoup as bs\n",
    "import pandas as pd\n",
    "import requests\n",
    "import json\n",
    "import numpy as np\n",
    "import re \n",
    "from matplotlib import pyplot as plt\n",
    "import seaborn as sns\n",
    "\n",
    "\n",
    "sns.set_theme(style=\"darkgrid\")\n",
    "pd.set_option('display.max_columns', 500)\n",
    "pd.set_option('display.max_colwidth', 30)"
   ]
  },
  {
   "cell_type": "markdown",
   "id": "39c92be3",
   "metadata": {
    "papermill": {
     "duration": 0.011149,
     "end_time": "2023-10-17T08:38:00.611700",
     "exception": false,
     "start_time": "2023-10-17T08:38:00.600551",
     "status": "completed"
    },
    "tags": []
   },
   "source": [
    "# Web scraping"
   ]
  },
  {
   "cell_type": "code",
   "execution_count": 2,
   "id": "a7f26291",
   "metadata": {
    "execution": {
     "iopub.execute_input": "2023-10-17T08:38:00.659676Z",
     "iopub.status.busy": "2023-10-17T08:38:00.658744Z",
     "iopub.status.idle": "2023-10-17T08:38:00.664586Z",
     "shell.execute_reply": "2023-10-17T08:38:00.663785Z"
    },
    "papermill": {
     "duration": 0.020741,
     "end_time": "2023-10-17T08:38:00.666763",
     "exception": false,
     "start_time": "2023-10-17T08:38:00.646022",
     "status": "completed"
    },
    "tags": []
   },
   "outputs": [],
   "source": [
    "def get_content(td):\n",
    "    '''this function will deal with situation when there is a list inside <td> </td>'''\n",
    "    if td.find('li'):\n",
    "        return ', '.join((li.get_text(' ', strip=True).replace('\\xa0', ' ') for li in td.find_all('li'))) \n",
    "    else:\n",
    "        return td.get_text(' ', strip=True).replace('\\xa0', ' ')\n",
    "\n",
    "def get_imdb(title):\n",
    "    '''get imdb information by movie title'''\n",
    "    base_url = 'http://www.omdbapi.com/'\n",
    "    api_key = '&apikey=a897ec22'\n",
    "    title = title.replace(' ', '+')\n",
    "    title = '?t=' + title\n",
    "    r = requests.get(base_url + title + api_key).json()\n",
    "    return r.get('imdbRating', None), r.get('imdbVotes', None), r.get('Rated', None)\n",
    "\n",
    "\n",
    "def movie_page_scrapping(url):\n",
    "    '''scrape wikipedia movie page'''\n",
    "    # Set connection with wikipedia page using url\n",
    "    web_page = requests.get(url)\n",
    "    # Convert the connection object into beatiful soup object\n",
    "    movie_page = bs(web_page.content) \n",
    "    # Get movie infobox \n",
    "    infobox = movie_page.find(class_='infobox vevent')\n",
    "    # Get all table rows in the infobox\n",
    "    infobox_rows = infobox.find_all('tr')\n",
    "    # Single movie content dictionary\n",
    "    movie_content = dict() \n",
    "    for index, row in enumerate(infobox_rows):\n",
    "        # Everything except movie poster and movie title\n",
    "        if index > 1: \n",
    "            infobox_row_title = row.find('th').get_text(' ', strip=True)\n",
    "            infobox_row_value = get_content(row.find('td'))\n",
    "            movie_content[infobox_row_title] = infobox_row_value\n",
    "        # Movie poster (image)\n",
    "        elif index == 1:\n",
    "            continue\n",
    "        # Movie title\n",
    "        else:\n",
    "            title = row.find('th').get_text(' ', strip=True)\n",
    "            movie_content['title'] = title\n",
    "    # Add imdb information in the movie dictionary\n",
    "    movie_content['imdbRating'], movie_content['imdbVotes'], movie_content['Rated'] = get_imdb(title)\n",
    "    return movie_content\n"
   ]
  },
  {
   "cell_type": "code",
   "execution_count": 3,
   "id": "5ac6cbc8",
   "metadata": {
    "execution": {
     "iopub.execute_input": "2023-10-17T08:38:00.691997Z",
     "iopub.status.busy": "2023-10-17T08:38:00.691619Z",
     "iopub.status.idle": "2023-10-17T08:38:00.696311Z",
     "shell.execute_reply": "2023-10-17T08:38:00.695365Z"
    },
    "papermill": {
     "duration": 0.019446,
     "end_time": "2023-10-17T08:38:00.698263",
     "exception": false,
     "start_time": "2023-10-17T08:38:00.678817",
     "status": "completed"
    },
    "tags": []
   },
   "outputs": [],
   "source": [
    "# Set connection to web page where all disney movies are listed\n",
    "web_page = requests.get(r'https://en.wikipedia.org/wiki/List_of_Walt_Disney_Pictures_films')\n",
    "web_page = bs(web_page.content)\n",
    "# Get infoboxes which contain list of movies by decades and use slice(:-3) to exclude upcoming/undated/in_development infoboxes \n",
    "movies_infoboxes: list = web_page.select('.wikitable.sortable')[:-3]\n",
    "# Transmute infoboxes into list of rows from the infobox\n",
    "infoboxes_transmuted = (infobox.find_all('i') for infobox in movies_infoboxes)\n",
    "\n",
    "# List of movie content dictionaries\n",
    "movies_list = []\n",
    "# Select each infobox list\n",
    "for infobox in infoboxes_transmuted: \n",
    "    # Select every single row from the infobox, row example: <i><a href=\"/wiki/Snow_White_and_the_Seven_Dwarfs_(1937_film)\" title=\"Snow White and the Seven Dwarfs (1937 film)\">Snow White and the Seven Dwarfs</a></i>\n",
    "    for row in infobox: \n",
    "        try:\n",
    "            # Make a valid url\n",
    "            url = 'https://en.wikipedia.org' + row.a['href']\n",
    "            # Perform movie page scrapping\n",
    "            movies_list.append(movie_page_scrapping(url))\n",
    "        except (TypeError, AttributeError):\n",
    "            continue   "
   ]
  },
  {
   "cell_type": "markdown",
   "id": "ac724c98",
   "metadata": {},
   "source": [
    "### Web scraping process approximately takes 12 minutes. <br> I have saved the results of web scraping into json file to eliminate the need of rerunning this process over and over again."
   ]
  },
  {
   "cell_type": "code",
   "execution_count": 4,
   "id": "ac31c49e",
   "metadata": {
    "execution": {
     "iopub.execute_input": "2023-10-17T08:38:00.723603Z",
     "iopub.status.busy": "2023-10-17T08:38:00.723049Z",
     "iopub.status.idle": "2023-10-17T08:38:00.727410Z",
     "shell.execute_reply": "2023-10-17T08:38:00.726445Z"
    },
    "papermill": {
     "duration": 0.019526,
     "end_time": "2023-10-17T08:38:00.729421",
     "exception": false,
     "start_time": "2023-10-17T08:38:00.709895",
     "status": "completed"
    },
    "tags": []
   },
   "outputs": [],
   "source": [
    "# Save list of movie content dictionaries into json\n",
    "# with open('disney_wikipedia.json', 'w') as file:\n",
    "#     json.dump(movies_list, file)    "
   ]
  },
  {
   "cell_type": "markdown",
   "id": "cab4d8ba",
   "metadata": {
    "papermill": {
     "duration": 0.011395,
     "end_time": "2023-10-17T08:38:00.752299",
     "exception": false,
     "start_time": "2023-10-17T08:38:00.740904",
     "status": "completed"
    },
    "tags": []
   },
   "source": [
    "# Data transformation and exploring"
   ]
  },
  {
   "cell_type": "code",
   "execution_count": 6,
   "id": "675e8f18",
   "metadata": {
    "execution": {
     "iopub.execute_input": "2023-10-17T08:38:00.814824Z",
     "iopub.status.busy": "2023-10-17T08:38:00.813796Z",
     "iopub.status.idle": "2023-10-17T08:38:00.879658Z",
     "shell.execute_reply": "2023-10-17T08:38:00.878858Z"
    },
    "papermill": {
     "duration": 0.08046,
     "end_time": "2023-10-17T08:38:00.881785",
     "exception": false,
     "start_time": "2023-10-17T08:38:00.801325",
     "status": "completed"
    },
    "tags": []
   },
   "outputs": [
    {
     "data": {
      "text/html": [
       "<div>\n",
       "<style scoped>\n",
       "    .dataframe tbody tr th:only-of-type {\n",
       "        vertical-align: middle;\n",
       "    }\n",
       "\n",
       "    .dataframe tbody tr th {\n",
       "        vertical-align: top;\n",
       "    }\n",
       "\n",
       "    .dataframe thead th {\n",
       "        text-align: right;\n",
       "    }\n",
       "</style>\n",
       "<table border=\"1\" class=\"dataframe\">\n",
       "  <thead>\n",
       "    <tr style=\"text-align: right;\">\n",
       "      <th></th>\n",
       "      <th>title</th>\n",
       "      <th>Directed by</th>\n",
       "      <th>Story by</th>\n",
       "      <th>Based on</th>\n",
       "      <th>Produced by</th>\n",
       "      <th>Starring</th>\n",
       "      <th>Music by</th>\n",
       "      <th>Production company</th>\n",
       "      <th>Distributed by</th>\n",
       "      <th>Release dates</th>\n",
       "      <th>Running time</th>\n",
       "      <th>Country</th>\n",
       "      <th>Language</th>\n",
       "      <th>Budget</th>\n",
       "      <th>Box office</th>\n",
       "      <th>imdbRating</th>\n",
       "      <th>imdbVotes</th>\n",
       "      <th>Rated</th>\n",
       "      <th>Narrated by</th>\n",
       "      <th>Cinematography</th>\n",
       "      <th>Release date</th>\n",
       "      <th>Written by</th>\n",
       "      <th>Edited by</th>\n",
       "      <th>Languages</th>\n",
       "      <th>Screenplay by</th>\n",
       "      <th>Countries</th>\n",
       "      <th>Color process</th>\n",
       "      <th>Production companies</th>\n",
       "      <th>Layouts by</th>\n",
       "    </tr>\n",
       "  </thead>\n",
       "  <tbody>\n",
       "    <tr>\n",
       "      <th>0</th>\n",
       "      <td>Snow White and the Seven D...</td>\n",
       "      <td>David Hand, Perce Pearce, ...</td>\n",
       "      <td>Ted Sears, Richard Creedon...</td>\n",
       "      <td>Snow White by the Brothers...</td>\n",
       "      <td>Walt Disney</td>\n",
       "      <td>Adriana Caselotti, Roy Atw...</td>\n",
       "      <td>Frank Churchill, Leigh Har...</td>\n",
       "      <td>Walt Disney Productions</td>\n",
       "      <td>RKO Radio Pictures</td>\n",
       "      <td>December 21, 1937 ( 1937-1...</td>\n",
       "      <td>83 minutes</td>\n",
       "      <td>United States</td>\n",
       "      <td>English</td>\n",
       "      <td>$1.5 million [1]</td>\n",
       "      <td>$418 million [2]</td>\n",
       "      <td>7.6</td>\n",
       "      <td>209,330</td>\n",
       "      <td>Approved</td>\n",
       "      <td>NaN</td>\n",
       "      <td>NaN</td>\n",
       "      <td>NaN</td>\n",
       "      <td>NaN</td>\n",
       "      <td>NaN</td>\n",
       "      <td>NaN</td>\n",
       "      <td>NaN</td>\n",
       "      <td>NaN</td>\n",
       "      <td>NaN</td>\n",
       "      <td>NaN</td>\n",
       "      <td>NaN</td>\n",
       "    </tr>\n",
       "    <tr>\n",
       "      <th>1</th>\n",
       "      <td>Pinocchio</td>\n",
       "      <td>Ben Sharpsteen, Hamilton L...</td>\n",
       "      <td>Ted Sears, Otto Englander,...</td>\n",
       "      <td>The Adventures of Pinocchi...</td>\n",
       "      <td>Walt Disney</td>\n",
       "      <td>Cliff Edwards, Dickie Jone...</td>\n",
       "      <td>Leigh Harline, Paul J. Smith</td>\n",
       "      <td>Walt Disney Productions</td>\n",
       "      <td>RKO Radio Pictures Buena V...</td>\n",
       "      <td>February 7, 1940 ( 1940-02...</td>\n",
       "      <td>88 minutes</td>\n",
       "      <td>United States</td>\n",
       "      <td>English</td>\n",
       "      <td>$2.6 million [3]</td>\n",
       "      <td>$164 million</td>\n",
       "      <td>7.5</td>\n",
       "      <td>154,739</td>\n",
       "      <td>G</td>\n",
       "      <td>NaN</td>\n",
       "      <td>NaN</td>\n",
       "      <td>NaN</td>\n",
       "      <td>NaN</td>\n",
       "      <td>NaN</td>\n",
       "      <td>NaN</td>\n",
       "      <td>NaN</td>\n",
       "      <td>NaN</td>\n",
       "      <td>NaN</td>\n",
       "      <td>NaN</td>\n",
       "      <td>NaN</td>\n",
       "    </tr>\n",
       "    <tr>\n",
       "      <th>2</th>\n",
       "      <td>Fantasia</td>\n",
       "      <td>Samuel Armstrong, James Al...</td>\n",
       "      <td>Joe Grant, Dick Huemer</td>\n",
       "      <td>NaN</td>\n",
       "      <td>Walt Disney, Ben Sharpsteen</td>\n",
       "      <td>Leopold Stokowski, Deems T...</td>\n",
       "      <td>See program</td>\n",
       "      <td>Walt Disney Productions</td>\n",
       "      <td>RKO Radio Pictures</td>\n",
       "      <td>NaN</td>\n",
       "      <td>126 minutes [1]</td>\n",
       "      <td>United States</td>\n",
       "      <td>English</td>\n",
       "      <td>$2.28 million [2] [3]</td>\n",
       "      <td>$76.4–$83.3 million (Unite...</td>\n",
       "      <td>7.7</td>\n",
       "      <td>100,976</td>\n",
       "      <td>G</td>\n",
       "      <td>Deems Taylor</td>\n",
       "      <td>James Wong Howe</td>\n",
       "      <td>November 13, 1940 ( 1940-1...</td>\n",
       "      <td>NaN</td>\n",
       "      <td>NaN</td>\n",
       "      <td>NaN</td>\n",
       "      <td>NaN</td>\n",
       "      <td>NaN</td>\n",
       "      <td>NaN</td>\n",
       "      <td>NaN</td>\n",
       "      <td>NaN</td>\n",
       "    </tr>\n",
       "    <tr>\n",
       "      <th>3</th>\n",
       "      <td>The Reluctant Dragon</td>\n",
       "      <td>Alfred Werker (live action...</td>\n",
       "      <td>NaN</td>\n",
       "      <td>NaN</td>\n",
       "      <td>Walt Disney</td>\n",
       "      <td>Robert Benchley Frances Gi...</td>\n",
       "      <td>Frank Churchill Larry Morey</td>\n",
       "      <td>Walt Disney Productions</td>\n",
       "      <td>RKO Radio Pictures</td>\n",
       "      <td>NaN</td>\n",
       "      <td>74 minutes</td>\n",
       "      <td>United States</td>\n",
       "      <td>English</td>\n",
       "      <td>$600,000 [2]</td>\n",
       "      <td>$960,000 (worldwide rental...</td>\n",
       "      <td>6.8</td>\n",
       "      <td>3,626</td>\n",
       "      <td>Approved</td>\n",
       "      <td>NaN</td>\n",
       "      <td>Bert Glennon</td>\n",
       "      <td>June 27, 1941 ( 1941-06-27...</td>\n",
       "      <td>Live-action: Ted Sears Al ...</td>\n",
       "      <td>Paul Weatherwax</td>\n",
       "      <td>NaN</td>\n",
       "      <td>NaN</td>\n",
       "      <td>NaN</td>\n",
       "      <td>NaN</td>\n",
       "      <td>NaN</td>\n",
       "      <td>NaN</td>\n",
       "    </tr>\n",
       "    <tr>\n",
       "      <th>4</th>\n",
       "      <td>Dumbo</td>\n",
       "      <td>Ben Sharpsteen, Norman Fer...</td>\n",
       "      <td>Joe Grant, Dick Huemer</td>\n",
       "      <td>Dumbo, the Flying Elephant...</td>\n",
       "      <td>Walt Disney</td>\n",
       "      <td>Edward Brophy, Verna Felto...</td>\n",
       "      <td>Frank Churchill Oliver Wal...</td>\n",
       "      <td>Walt Disney Productions</td>\n",
       "      <td>RKO Radio Pictures</td>\n",
       "      <td>October 23, 1941 ( 1941-10...</td>\n",
       "      <td>64 minutes</td>\n",
       "      <td>United States</td>\n",
       "      <td>English</td>\n",
       "      <td>$950,000 [2]</td>\n",
       "      <td>&gt;$1.3 million (est. United...</td>\n",
       "      <td>7.2</td>\n",
       "      <td>137,766</td>\n",
       "      <td>G</td>\n",
       "      <td>John McLeish</td>\n",
       "      <td>NaN</td>\n",
       "      <td>NaN</td>\n",
       "      <td>NaN</td>\n",
       "      <td>NaN</td>\n",
       "      <td>NaN</td>\n",
       "      <td>NaN</td>\n",
       "      <td>NaN</td>\n",
       "      <td>NaN</td>\n",
       "      <td>NaN</td>\n",
       "      <td>NaN</td>\n",
       "    </tr>\n",
       "  </tbody>\n",
       "</table>\n",
       "</div>"
      ],
      "text/plain": [
       "                           title                    Directed by  \\\n",
       "0  Snow White and the Seven D...  David Hand, Perce Pearce, ...   \n",
       "1                      Pinocchio  Ben Sharpsteen, Hamilton L...   \n",
       "2                       Fantasia  Samuel Armstrong, James Al...   \n",
       "3           The Reluctant Dragon  Alfred Werker (live action...   \n",
       "4                          Dumbo  Ben Sharpsteen, Norman Fer...   \n",
       "\n",
       "                        Story by                       Based on  \\\n",
       "0  Ted Sears, Richard Creedon...  Snow White by the Brothers...   \n",
       "1  Ted Sears, Otto Englander,...  The Adventures of Pinocchi...   \n",
       "2         Joe Grant, Dick Huemer                            NaN   \n",
       "3                            NaN                            NaN   \n",
       "4         Joe Grant, Dick Huemer  Dumbo, the Flying Elephant...   \n",
       "\n",
       "                   Produced by                       Starring  \\\n",
       "0                  Walt Disney  Adriana Caselotti, Roy Atw...   \n",
       "1                  Walt Disney  Cliff Edwards, Dickie Jone...   \n",
       "2  Walt Disney, Ben Sharpsteen  Leopold Stokowski, Deems T...   \n",
       "3                  Walt Disney  Robert Benchley Frances Gi...   \n",
       "4                  Walt Disney  Edward Brophy, Verna Felto...   \n",
       "\n",
       "                        Music by       Production company  \\\n",
       "0  Frank Churchill, Leigh Har...  Walt Disney Productions   \n",
       "1   Leigh Harline, Paul J. Smith  Walt Disney Productions   \n",
       "2                    See program  Walt Disney Productions   \n",
       "3    Frank Churchill Larry Morey  Walt Disney Productions   \n",
       "4  Frank Churchill Oliver Wal...  Walt Disney Productions   \n",
       "\n",
       "                  Distributed by                  Release dates  \\\n",
       "0             RKO Radio Pictures  December 21, 1937 ( 1937-1...   \n",
       "1  RKO Radio Pictures Buena V...  February 7, 1940 ( 1940-02...   \n",
       "2             RKO Radio Pictures                            NaN   \n",
       "3             RKO Radio Pictures                            NaN   \n",
       "4             RKO Radio Pictures  October 23, 1941 ( 1941-10...   \n",
       "\n",
       "      Running time        Country Language                 Budget  \\\n",
       "0       83 minutes  United States  English       $1.5 million [1]   \n",
       "1       88 minutes  United States  English       $2.6 million [3]   \n",
       "2  126 minutes [1]  United States  English  $2.28 million [2] [3]   \n",
       "3       74 minutes  United States  English           $600,000 [2]   \n",
       "4       64 minutes  United States  English           $950,000 [2]   \n",
       "\n",
       "                      Box office imdbRating imdbVotes     Rated   Narrated by  \\\n",
       "0               $418 million [2]        7.6   209,330  Approved           NaN   \n",
       "1                   $164 million        7.5   154,739         G           NaN   \n",
       "2  $76.4–$83.3 million (Unite...        7.7   100,976         G  Deems Taylor   \n",
       "3  $960,000 (worldwide rental...        6.8     3,626  Approved           NaN   \n",
       "4  >$1.3 million (est. United...        7.2   137,766         G  John McLeish   \n",
       "\n",
       "    Cinematography                   Release date  \\\n",
       "0              NaN                            NaN   \n",
       "1              NaN                            NaN   \n",
       "2  James Wong Howe  November 13, 1940 ( 1940-1...   \n",
       "3     Bert Glennon  June 27, 1941 ( 1941-06-27...   \n",
       "4              NaN                            NaN   \n",
       "\n",
       "                      Written by        Edited by Languages Screenplay by  \\\n",
       "0                            NaN              NaN       NaN           NaN   \n",
       "1                            NaN              NaN       NaN           NaN   \n",
       "2                            NaN              NaN       NaN           NaN   \n",
       "3  Live-action: Ted Sears Al ...  Paul Weatherwax       NaN           NaN   \n",
       "4                            NaN              NaN       NaN           NaN   \n",
       "\n",
       "  Countries Color process Production companies Layouts by  \n",
       "0       NaN           NaN                  NaN        NaN  \n",
       "1       NaN           NaN                  NaN        NaN  \n",
       "2       NaN           NaN                  NaN        NaN  \n",
       "3       NaN           NaN                  NaN        NaN  \n",
       "4       NaN           NaN                  NaN        NaN  "
      ]
     },
     "execution_count": 6,
     "metadata": {},
     "output_type": "execute_result"
    }
   ],
   "source": [
    "# Load web-scrapped dataset\n",
    "df = pd.read_json(r'C:\\Users\\MyProfileAdministrator\\Desktop\\programming\\Projects\\disney_wikipedia.json')\n",
    "df.head(5)"
   ]
  },
  {
   "cell_type": "code",
   "execution_count": 7,
   "id": "218ec9de",
   "metadata": {
    "execution": {
     "iopub.execute_input": "2023-10-17T08:38:00.908176Z",
     "iopub.status.busy": "2023-10-17T08:38:00.907096Z",
     "iopub.status.idle": "2023-10-17T08:38:00.917830Z",
     "shell.execute_reply": "2023-10-17T08:38:00.916789Z"
    },
    "papermill": {
     "duration": 0.026252,
     "end_time": "2023-10-17T08:38:00.920221",
     "exception": false,
     "start_time": "2023-10-17T08:38:00.893969",
     "status": "completed"
    },
    "tags": []
   },
   "outputs": [
    {
     "data": {
      "text/plain": [
       "title                     0\n",
       "Directed by               2\n",
       "Story by                348\n",
       "Based on                233\n",
       "Produced by               9\n",
       "Starring                 32\n",
       "Music by                  2\n",
       "Production company      305\n",
       "Distributed by            0\n",
       "Release dates           318\n",
       "Running time              3\n",
       "Country                  67\n",
       "Language                 22\n",
       "Budget                  202\n",
       "Box office              119\n",
       "imdbRating               21\n",
       "imdbVotes                21\n",
       "Rated                    21\n",
       "Narrated by             451\n",
       "Cinematography          123\n",
       "Release date            193\n",
       "Written by              293\n",
       "Edited by                36\n",
       "Languages               489\n",
       "Screenplay by           259\n",
       "Countries               448\n",
       "Color process           504\n",
       "Production companies    206\n",
       "Layouts by              509\n",
       "dtype: int64"
      ]
     },
     "execution_count": 7,
     "metadata": {},
     "output_type": "execute_result"
    }
   ],
   "source": [
    "# check for missing values\n",
    "df.isna().sum()"
   ]
  },
  {
   "cell_type": "code",
   "execution_count": 8,
   "id": "28c022df",
   "metadata": {
    "execution": {
     "iopub.execute_input": "2023-10-17T08:38:01.004598Z",
     "iopub.status.busy": "2023-10-17T08:38:01.004228Z",
     "iopub.status.idle": "2023-10-17T08:38:01.047423Z",
     "shell.execute_reply": "2023-10-17T08:38:01.046332Z"
    },
    "papermill": {
     "duration": 0.116469,
     "end_time": "2023-10-17T08:38:01.049539",
     "exception": false,
     "start_time": "2023-10-17T08:38:00.933070",
     "status": "completed"
    },
    "tags": []
   },
   "outputs": [
    {
     "data": {
      "text/html": [
       "<div>\n",
       "<style scoped>\n",
       "    .dataframe tbody tr th:only-of-type {\n",
       "        vertical-align: middle;\n",
       "    }\n",
       "\n",
       "    .dataframe tbody tr th {\n",
       "        vertical-align: top;\n",
       "    }\n",
       "\n",
       "    .dataframe thead th {\n",
       "        text-align: right;\n",
       "    }\n",
       "</style>\n",
       "<table border=\"1\" class=\"dataframe\">\n",
       "  <thead>\n",
       "    <tr style=\"text-align: right;\">\n",
       "      <th></th>\n",
       "      <th>title</th>\n",
       "      <th>Directed by</th>\n",
       "      <th>Story by</th>\n",
       "      <th>Based on</th>\n",
       "      <th>Produced by</th>\n",
       "      <th>Starring</th>\n",
       "      <th>Music by</th>\n",
       "      <th>Production company</th>\n",
       "      <th>Distributed by</th>\n",
       "      <th>Release dates</th>\n",
       "      <th>Running time</th>\n",
       "      <th>Country</th>\n",
       "      <th>Language</th>\n",
       "      <th>Budget</th>\n",
       "      <th>Box office</th>\n",
       "      <th>imdbRating</th>\n",
       "      <th>imdbVotes</th>\n",
       "      <th>Rated</th>\n",
       "      <th>Narrated by</th>\n",
       "      <th>Cinematography</th>\n",
       "      <th>Release date</th>\n",
       "      <th>Written by</th>\n",
       "      <th>Edited by</th>\n",
       "      <th>Languages</th>\n",
       "      <th>Screenplay by</th>\n",
       "      <th>Countries</th>\n",
       "      <th>Color process</th>\n",
       "      <th>Production companies</th>\n",
       "      <th>Layouts by</th>\n",
       "    </tr>\n",
       "  </thead>\n",
       "  <tbody>\n",
       "    <tr>\n",
       "      <th>0</th>\n",
       "      <td>Snow White and the Seven D...</td>\n",
       "      <td>David Hand, Perce Pearce, ...</td>\n",
       "      <td>Ted Sears, Richard Creedon...</td>\n",
       "      <td>Snow White by the Brothers...</td>\n",
       "      <td>Walt Disney</td>\n",
       "      <td>Adriana Caselotti, Roy Atw...</td>\n",
       "      <td>Frank Churchill, Leigh Har...</td>\n",
       "      <td>Walt Disney Productions</td>\n",
       "      <td>RKO Radio Pictures</td>\n",
       "      <td>December 21, 1937 ( 1937-1...</td>\n",
       "      <td>83 minutes</td>\n",
       "      <td>United States</td>\n",
       "      <td>English</td>\n",
       "      <td>$1.5 million [1]</td>\n",
       "      <td>$418 million [2]</td>\n",
       "      <td>7.6</td>\n",
       "      <td>209,330</td>\n",
       "      <td>Approved</td>\n",
       "      <td>NaN</td>\n",
       "      <td>NaN</td>\n",
       "      <td>NaN</td>\n",
       "      <td>NaN</td>\n",
       "      <td>NaN</td>\n",
       "      <td>NaN</td>\n",
       "      <td>NaN</td>\n",
       "      <td>NaN</td>\n",
       "      <td>NaN</td>\n",
       "      <td>NaN</td>\n",
       "      <td>NaN</td>\n",
       "    </tr>\n",
       "    <tr>\n",
       "      <th>1</th>\n",
       "      <td>Pinocchio</td>\n",
       "      <td>Ben Sharpsteen, Hamilton L...</td>\n",
       "      <td>Ted Sears, Otto Englander,...</td>\n",
       "      <td>The Adventures of Pinocchi...</td>\n",
       "      <td>Walt Disney</td>\n",
       "      <td>Cliff Edwards, Dickie Jone...</td>\n",
       "      <td>Leigh Harline, Paul J. Smith</td>\n",
       "      <td>Walt Disney Productions</td>\n",
       "      <td>RKO Radio Pictures Buena V...</td>\n",
       "      <td>February 7, 1940 ( 1940-02...</td>\n",
       "      <td>88 minutes</td>\n",
       "      <td>United States</td>\n",
       "      <td>English</td>\n",
       "      <td>$2.6 million [3]</td>\n",
       "      <td>$164 million</td>\n",
       "      <td>7.5</td>\n",
       "      <td>154,739</td>\n",
       "      <td>G</td>\n",
       "      <td>NaN</td>\n",
       "      <td>NaN</td>\n",
       "      <td>NaN</td>\n",
       "      <td>NaN</td>\n",
       "      <td>NaN</td>\n",
       "      <td>NaN</td>\n",
       "      <td>NaN</td>\n",
       "      <td>NaN</td>\n",
       "      <td>NaN</td>\n",
       "      <td>NaN</td>\n",
       "      <td>NaN</td>\n",
       "    </tr>\n",
       "    <tr>\n",
       "      <th>2</th>\n",
       "      <td>Fantasia</td>\n",
       "      <td>Samuel Armstrong, James Al...</td>\n",
       "      <td>Joe Grant, Dick Huemer</td>\n",
       "      <td>NaN</td>\n",
       "      <td>Walt Disney, Ben Sharpsteen</td>\n",
       "      <td>Leopold Stokowski, Deems T...</td>\n",
       "      <td>See program</td>\n",
       "      <td>Walt Disney Productions</td>\n",
       "      <td>RKO Radio Pictures</td>\n",
       "      <td>November 13, 1940 ( 1940-1...</td>\n",
       "      <td>126 minutes [1]</td>\n",
       "      <td>United States</td>\n",
       "      <td>English</td>\n",
       "      <td>$2.28 million [2] [3]</td>\n",
       "      <td>$76.4–$83.3 million (Unite...</td>\n",
       "      <td>7.7</td>\n",
       "      <td>100,976</td>\n",
       "      <td>G</td>\n",
       "      <td>Deems Taylor</td>\n",
       "      <td>James Wong Howe</td>\n",
       "      <td>November 13, 1940 ( 1940-1...</td>\n",
       "      <td>NaN</td>\n",
       "      <td>NaN</td>\n",
       "      <td>NaN</td>\n",
       "      <td>NaN</td>\n",
       "      <td>NaN</td>\n",
       "      <td>NaN</td>\n",
       "      <td>NaN</td>\n",
       "      <td>NaN</td>\n",
       "    </tr>\n",
       "    <tr>\n",
       "      <th>3</th>\n",
       "      <td>The Reluctant Dragon</td>\n",
       "      <td>Alfred Werker (live action...</td>\n",
       "      <td>NaN</td>\n",
       "      <td>NaN</td>\n",
       "      <td>Walt Disney</td>\n",
       "      <td>Robert Benchley Frances Gi...</td>\n",
       "      <td>Frank Churchill Larry Morey</td>\n",
       "      <td>Walt Disney Productions</td>\n",
       "      <td>RKO Radio Pictures</td>\n",
       "      <td>June 27, 1941 ( 1941-06-27...</td>\n",
       "      <td>74 minutes</td>\n",
       "      <td>United States</td>\n",
       "      <td>English</td>\n",
       "      <td>$600,000 [2]</td>\n",
       "      <td>$960,000 (worldwide rental...</td>\n",
       "      <td>6.8</td>\n",
       "      <td>3,626</td>\n",
       "      <td>Approved</td>\n",
       "      <td>NaN</td>\n",
       "      <td>Bert Glennon</td>\n",
       "      <td>June 27, 1941 ( 1941-06-27...</td>\n",
       "      <td>Live-action: Ted Sears Al ...</td>\n",
       "      <td>Paul Weatherwax</td>\n",
       "      <td>NaN</td>\n",
       "      <td>NaN</td>\n",
       "      <td>NaN</td>\n",
       "      <td>NaN</td>\n",
       "      <td>NaN</td>\n",
       "      <td>NaN</td>\n",
       "    </tr>\n",
       "    <tr>\n",
       "      <th>4</th>\n",
       "      <td>Dumbo</td>\n",
       "      <td>Ben Sharpsteen, Norman Fer...</td>\n",
       "      <td>Joe Grant, Dick Huemer</td>\n",
       "      <td>Dumbo, the Flying Elephant...</td>\n",
       "      <td>Walt Disney</td>\n",
       "      <td>Edward Brophy, Verna Felto...</td>\n",
       "      <td>Frank Churchill Oliver Wal...</td>\n",
       "      <td>Walt Disney Productions</td>\n",
       "      <td>RKO Radio Pictures</td>\n",
       "      <td>October 23, 1941 ( 1941-10...</td>\n",
       "      <td>64 minutes</td>\n",
       "      <td>United States</td>\n",
       "      <td>English</td>\n",
       "      <td>$950,000 [2]</td>\n",
       "      <td>&gt;$1.3 million (est. United...</td>\n",
       "      <td>7.2</td>\n",
       "      <td>137,766</td>\n",
       "      <td>G</td>\n",
       "      <td>John McLeish</td>\n",
       "      <td>NaN</td>\n",
       "      <td>NaN</td>\n",
       "      <td>NaN</td>\n",
       "      <td>NaN</td>\n",
       "      <td>NaN</td>\n",
       "      <td>NaN</td>\n",
       "      <td>NaN</td>\n",
       "      <td>NaN</td>\n",
       "      <td>NaN</td>\n",
       "      <td>NaN</td>\n",
       "    </tr>\n",
       "  </tbody>\n",
       "</table>\n",
       "</div>"
      ],
      "text/plain": [
       "                           title                    Directed by  \\\n",
       "0  Snow White and the Seven D...  David Hand, Perce Pearce, ...   \n",
       "1                      Pinocchio  Ben Sharpsteen, Hamilton L...   \n",
       "2                       Fantasia  Samuel Armstrong, James Al...   \n",
       "3           The Reluctant Dragon  Alfred Werker (live action...   \n",
       "4                          Dumbo  Ben Sharpsteen, Norman Fer...   \n",
       "\n",
       "                        Story by                       Based on  \\\n",
       "0  Ted Sears, Richard Creedon...  Snow White by the Brothers...   \n",
       "1  Ted Sears, Otto Englander,...  The Adventures of Pinocchi...   \n",
       "2         Joe Grant, Dick Huemer                            NaN   \n",
       "3                            NaN                            NaN   \n",
       "4         Joe Grant, Dick Huemer  Dumbo, the Flying Elephant...   \n",
       "\n",
       "                   Produced by                       Starring  \\\n",
       "0                  Walt Disney  Adriana Caselotti, Roy Atw...   \n",
       "1                  Walt Disney  Cliff Edwards, Dickie Jone...   \n",
       "2  Walt Disney, Ben Sharpsteen  Leopold Stokowski, Deems T...   \n",
       "3                  Walt Disney  Robert Benchley Frances Gi...   \n",
       "4                  Walt Disney  Edward Brophy, Verna Felto...   \n",
       "\n",
       "                        Music by       Production company  \\\n",
       "0  Frank Churchill, Leigh Har...  Walt Disney Productions   \n",
       "1   Leigh Harline, Paul J. Smith  Walt Disney Productions   \n",
       "2                    See program  Walt Disney Productions   \n",
       "3    Frank Churchill Larry Morey  Walt Disney Productions   \n",
       "4  Frank Churchill Oliver Wal...  Walt Disney Productions   \n",
       "\n",
       "                  Distributed by                  Release dates  \\\n",
       "0             RKO Radio Pictures  December 21, 1937 ( 1937-1...   \n",
       "1  RKO Radio Pictures Buena V...  February 7, 1940 ( 1940-02...   \n",
       "2             RKO Radio Pictures  November 13, 1940 ( 1940-1...   \n",
       "3             RKO Radio Pictures  June 27, 1941 ( 1941-06-27...   \n",
       "4             RKO Radio Pictures  October 23, 1941 ( 1941-10...   \n",
       "\n",
       "      Running time        Country Language                 Budget  \\\n",
       "0       83 minutes  United States  English       $1.5 million [1]   \n",
       "1       88 minutes  United States  English       $2.6 million [3]   \n",
       "2  126 minutes [1]  United States  English  $2.28 million [2] [3]   \n",
       "3       74 minutes  United States  English           $600,000 [2]   \n",
       "4       64 minutes  United States  English           $950,000 [2]   \n",
       "\n",
       "                      Box office imdbRating imdbVotes     Rated   Narrated by  \\\n",
       "0               $418 million [2]        7.6   209,330  Approved           NaN   \n",
       "1                   $164 million        7.5   154,739         G           NaN   \n",
       "2  $76.4–$83.3 million (Unite...        7.7   100,976         G  Deems Taylor   \n",
       "3  $960,000 (worldwide rental...        6.8     3,626  Approved           NaN   \n",
       "4  >$1.3 million (est. United...        7.2   137,766         G  John McLeish   \n",
       "\n",
       "    Cinematography                   Release date  \\\n",
       "0              NaN                            NaN   \n",
       "1              NaN                            NaN   \n",
       "2  James Wong Howe  November 13, 1940 ( 1940-1...   \n",
       "3     Bert Glennon  June 27, 1941 ( 1941-06-27...   \n",
       "4              NaN                            NaN   \n",
       "\n",
       "                      Written by        Edited by Languages Screenplay by  \\\n",
       "0                            NaN              NaN       NaN           NaN   \n",
       "1                            NaN              NaN       NaN           NaN   \n",
       "2                            NaN              NaN       NaN           NaN   \n",
       "3  Live-action: Ted Sears Al ...  Paul Weatherwax       NaN           NaN   \n",
       "4                            NaN              NaN       NaN           NaN   \n",
       "\n",
       "  Countries Color process Production companies Layouts by  \n",
       "0       NaN           NaN                  NaN        NaN  \n",
       "1       NaN           NaN                  NaN        NaN  \n",
       "2       NaN           NaN                  NaN        NaN  \n",
       "3       NaN           NaN                  NaN        NaN  \n",
       "4       NaN           NaN                  NaN        NaN  "
      ]
     },
     "execution_count": 8,
     "metadata": {},
     "output_type": "execute_result"
    }
   ],
   "source": [
    "# There are columns with the same information but differently named\n",
    "# So i would like to combine 2 identical columns into single one \n",
    "# Define the function which is going to grab information from column2 and deliver it into column1\n",
    "def replace_column_values_ifna(column1: str, column2: str):\n",
    "    '''replace missing values in column1 with corresponding values from column2'''\n",
    "    df[column1] = df.apply(lambda x: x[column2] if x[column1] is np.nan else x[column1], axis=1)\n",
    "\n",
    "# Make transformations using function defined earlier\n",
    "replace_column_values_ifna('Country', 'Countries')\n",
    "replace_column_values_ifna('Language', 'Languages')\n",
    "replace_column_values_ifna('Release dates', 'Release date')\n",
    "\n",
    "df.head(5)"
   ]
  },
  {
   "cell_type": "code",
   "execution_count": 9,
   "id": "d8eb0c66",
   "metadata": {
    "execution": {
     "iopub.execute_input": "2023-10-17T08:38:01.078177Z",
     "iopub.status.busy": "2023-10-17T08:38:01.077300Z",
     "iopub.status.idle": "2023-10-17T08:38:01.094445Z",
     "shell.execute_reply": "2023-10-17T08:38:01.093645Z"
    },
    "papermill": {
     "duration": 0.033407,
     "end_time": "2023-10-17T08:38:01.096472",
     "exception": false,
     "start_time": "2023-10-17T08:38:01.063065",
     "status": "completed"
    },
    "tags": []
   },
   "outputs": [
    {
     "data": {
      "text/html": [
       "<div>\n",
       "<style scoped>\n",
       "    .dataframe tbody tr th:only-of-type {\n",
       "        vertical-align: middle;\n",
       "    }\n",
       "\n",
       "    .dataframe tbody tr th {\n",
       "        vertical-align: top;\n",
       "    }\n",
       "\n",
       "    .dataframe thead th {\n",
       "        text-align: right;\n",
       "    }\n",
       "</style>\n",
       "<table border=\"1\" class=\"dataframe\">\n",
       "  <thead>\n",
       "    <tr style=\"text-align: right;\">\n",
       "      <th></th>\n",
       "      <th>title</th>\n",
       "      <th>Release dates</th>\n",
       "      <th>Running time</th>\n",
       "      <th>Country</th>\n",
       "      <th>Language</th>\n",
       "      <th>Budget</th>\n",
       "      <th>Box office</th>\n",
       "      <th>imdbRating</th>\n",
       "      <th>imdbVotes</th>\n",
       "      <th>Rated</th>\n",
       "    </tr>\n",
       "  </thead>\n",
       "  <tbody>\n",
       "    <tr>\n",
       "      <th>0</th>\n",
       "      <td>Snow White and the Seven D...</td>\n",
       "      <td>December 21, 1937 ( 1937-1...</td>\n",
       "      <td>83 minutes</td>\n",
       "      <td>United States</td>\n",
       "      <td>English</td>\n",
       "      <td>$1.5 million [1]</td>\n",
       "      <td>$418 million [2]</td>\n",
       "      <td>7.6</td>\n",
       "      <td>209,330</td>\n",
       "      <td>Approved</td>\n",
       "    </tr>\n",
       "    <tr>\n",
       "      <th>1</th>\n",
       "      <td>Pinocchio</td>\n",
       "      <td>February 7, 1940 ( 1940-02...</td>\n",
       "      <td>88 minutes</td>\n",
       "      <td>United States</td>\n",
       "      <td>English</td>\n",
       "      <td>$2.6 million [3]</td>\n",
       "      <td>$164 million</td>\n",
       "      <td>7.5</td>\n",
       "      <td>154,739</td>\n",
       "      <td>G</td>\n",
       "    </tr>\n",
       "    <tr>\n",
       "      <th>2</th>\n",
       "      <td>Fantasia</td>\n",
       "      <td>November 13, 1940 ( 1940-1...</td>\n",
       "      <td>126 minutes [1]</td>\n",
       "      <td>United States</td>\n",
       "      <td>English</td>\n",
       "      <td>$2.28 million [2] [3]</td>\n",
       "      <td>$76.4–$83.3 million (Unite...</td>\n",
       "      <td>7.7</td>\n",
       "      <td>100,976</td>\n",
       "      <td>G</td>\n",
       "    </tr>\n",
       "    <tr>\n",
       "      <th>3</th>\n",
       "      <td>The Reluctant Dragon</td>\n",
       "      <td>June 27, 1941 ( 1941-06-27...</td>\n",
       "      <td>74 minutes</td>\n",
       "      <td>United States</td>\n",
       "      <td>English</td>\n",
       "      <td>$600,000 [2]</td>\n",
       "      <td>$960,000 (worldwide rental...</td>\n",
       "      <td>6.8</td>\n",
       "      <td>3,626</td>\n",
       "      <td>Approved</td>\n",
       "    </tr>\n",
       "    <tr>\n",
       "      <th>4</th>\n",
       "      <td>Dumbo</td>\n",
       "      <td>October 23, 1941 ( 1941-10...</td>\n",
       "      <td>64 minutes</td>\n",
       "      <td>United States</td>\n",
       "      <td>English</td>\n",
       "      <td>$950,000 [2]</td>\n",
       "      <td>&gt;$1.3 million (est. United...</td>\n",
       "      <td>7.2</td>\n",
       "      <td>137,766</td>\n",
       "      <td>G</td>\n",
       "    </tr>\n",
       "  </tbody>\n",
       "</table>\n",
       "</div>"
      ],
      "text/plain": [
       "                           title                  Release dates  \\\n",
       "0  Snow White and the Seven D...  December 21, 1937 ( 1937-1...   \n",
       "1                      Pinocchio  February 7, 1940 ( 1940-02...   \n",
       "2                       Fantasia  November 13, 1940 ( 1940-1...   \n",
       "3           The Reluctant Dragon  June 27, 1941 ( 1941-06-27...   \n",
       "4                          Dumbo  October 23, 1941 ( 1941-10...   \n",
       "\n",
       "      Running time        Country Language                 Budget  \\\n",
       "0       83 minutes  United States  English       $1.5 million [1]   \n",
       "1       88 minutes  United States  English       $2.6 million [3]   \n",
       "2  126 minutes [1]  United States  English  $2.28 million [2] [3]   \n",
       "3       74 minutes  United States  English           $600,000 [2]   \n",
       "4       64 minutes  United States  English           $950,000 [2]   \n",
       "\n",
       "                      Box office imdbRating imdbVotes     Rated  \n",
       "0               $418 million [2]        7.6   209,330  Approved  \n",
       "1                   $164 million        7.5   154,739         G  \n",
       "2  $76.4–$83.3 million (Unite...        7.7   100,976         G  \n",
       "3  $960,000 (worldwide rental...        6.8     3,626  Approved  \n",
       "4  >$1.3 million (est. United...        7.2   137,766         G  "
      ]
     },
     "execution_count": 9,
     "metadata": {},
     "output_type": "execute_result"
    }
   ],
   "source": [
    "# get rid of useless columns\n",
    "df = df.loc[:, ['title', 'Release dates', 'Running time', 'Country', 'Language', 'Budget',\n",
    "       'Box office', 'imdbRating', 'imdbVotes', 'Rated']]\n",
    "df.head()"
   ]
  },
  {
   "cell_type": "code",
   "execution_count": 10,
   "id": "591a6ed7",
   "metadata": {
    "execution": {
     "iopub.execute_input": "2023-10-17T08:38:01.125599Z",
     "iopub.status.busy": "2023-10-17T08:38:01.125246Z",
     "iopub.status.idle": "2023-10-17T08:38:01.133687Z",
     "shell.execute_reply": "2023-10-17T08:38:01.132719Z"
    },
    "papermill": {
     "duration": 0.025358,
     "end_time": "2023-10-17T08:38:01.135639",
     "exception": false,
     "start_time": "2023-10-17T08:38:01.110281",
     "status": "completed"
    },
    "tags": []
   },
   "outputs": [
    {
     "data": {
      "text/plain": [
       "title              0\n",
       "Release dates      0\n",
       "Running time       3\n",
       "Country            4\n",
       "Language           0\n",
       "Budget           202\n",
       "Box office       119\n",
       "imdbRating        21\n",
       "imdbVotes         21\n",
       "Rated             21\n",
       "dtype: int64"
      ]
     },
     "execution_count": 10,
     "metadata": {},
     "output_type": "execute_result"
    }
   ],
   "source": [
    "# Check for missing values one more time to make sure that missing values were replenished\n",
    "df.isna().sum()"
   ]
  },
  {
   "cell_type": "code",
   "execution_count": 11,
   "id": "67cc731b",
   "metadata": {
    "execution": {
     "iopub.execute_input": "2023-10-17T08:38:01.163836Z",
     "iopub.status.busy": "2023-10-17T08:38:01.163141Z",
     "iopub.status.idle": "2023-10-17T08:38:01.185692Z",
     "shell.execute_reply": "2023-10-17T08:38:01.184585Z"
    },
    "papermill": {
     "duration": 0.039208,
     "end_time": "2023-10-17T08:38:01.188083",
     "exception": false,
     "start_time": "2023-10-17T08:38:01.148875",
     "status": "completed"
    },
    "tags": []
   },
   "outputs": [
    {
     "name": "stdout",
     "output_type": "stream",
     "text": [
      "<class 'pandas.core.frame.DataFrame'>\n",
      "RangeIndex: 511 entries, 0 to 510\n",
      "Data columns (total 10 columns):\n",
      " #   Column         Non-Null Count  Dtype \n",
      "---  ------         --------------  ----- \n",
      " 0   title          511 non-null    object\n",
      " 1   Release dates  511 non-null    object\n",
      " 2   Running time   508 non-null    object\n",
      " 3   Country        507 non-null    object\n",
      " 4   Language       511 non-null    object\n",
      " 5   Budget         309 non-null    object\n",
      " 6   Box office     392 non-null    object\n",
      " 7   imdbRating     490 non-null    object\n",
      " 8   imdbVotes      490 non-null    object\n",
      " 9   Rated          490 non-null    object\n",
      "dtypes: object(10)\n",
      "memory usage: 40.0+ KB\n"
     ]
    }
   ],
   "source": [
    "# Display basic information about the dataset\n",
    "df.info()"
   ]
  },
  {
   "cell_type": "code",
   "execution_count": 12,
   "id": "cc471d41",
   "metadata": {
    "execution": {
     "iopub.execute_input": "2023-10-17T08:38:01.216800Z",
     "iopub.status.busy": "2023-10-17T08:38:01.216434Z",
     "iopub.status.idle": "2023-10-17T08:38:01.243334Z",
     "shell.execute_reply": "2023-10-17T08:38:01.242597Z"
    },
    "papermill": {
     "duration": 0.043263,
     "end_time": "2023-10-17T08:38:01.245297",
     "exception": false,
     "start_time": "2023-10-17T08:38:01.202034",
     "status": "completed"
    },
    "tags": []
   },
   "outputs": [
    {
     "data": {
      "text/html": [
       "<div>\n",
       "<style scoped>\n",
       "    .dataframe tbody tr th:only-of-type {\n",
       "        vertical-align: middle;\n",
       "    }\n",
       "\n",
       "    .dataframe tbody tr th {\n",
       "        vertical-align: top;\n",
       "    }\n",
       "\n",
       "    .dataframe thead th {\n",
       "        text-align: right;\n",
       "    }\n",
       "</style>\n",
       "<table border=\"1\" class=\"dataframe\">\n",
       "  <thead>\n",
       "    <tr style=\"text-align: right;\">\n",
       "      <th></th>\n",
       "      <th>title</th>\n",
       "      <th>Release dates</th>\n",
       "      <th>Running time</th>\n",
       "      <th>Country</th>\n",
       "      <th>Language</th>\n",
       "      <th>Budget</th>\n",
       "      <th>Box office</th>\n",
       "      <th>imdbRating</th>\n",
       "      <th>imdbVotes</th>\n",
       "      <th>Rated</th>\n",
       "    </tr>\n",
       "  </thead>\n",
       "  <tbody>\n",
       "    <tr>\n",
       "      <th>count</th>\n",
       "      <td>511</td>\n",
       "      <td>511</td>\n",
       "      <td>508</td>\n",
       "      <td>507</td>\n",
       "      <td>511</td>\n",
       "      <td>309</td>\n",
       "      <td>392</td>\n",
       "      <td>490</td>\n",
       "      <td>490</td>\n",
       "      <td>490</td>\n",
       "    </tr>\n",
       "    <tr>\n",
       "      <th>unique</th>\n",
       "      <td>496</td>\n",
       "      <td>510</td>\n",
       "      <td>204</td>\n",
       "      <td>50</td>\n",
       "      <td>27</td>\n",
       "      <td>242</td>\n",
       "      <td>387</td>\n",
       "      <td>53</td>\n",
       "      <td>465</td>\n",
       "      <td>13</td>\n",
       "    </tr>\n",
       "    <tr>\n",
       "      <th>top</th>\n",
       "      <td>Freaky Friday</td>\n",
       "      <td>October 18, 1967 ( 1967-10...</td>\n",
       "      <td>93 minutes</td>\n",
       "      <td>United States</td>\n",
       "      <td>English</td>\n",
       "      <td>$5 million [1]</td>\n",
       "      <td>$1.025 billion [5]</td>\n",
       "      <td>6.4</td>\n",
       "      <td>445</td>\n",
       "      <td>G</td>\n",
       "    </tr>\n",
       "    <tr>\n",
       "      <th>freq</th>\n",
       "      <td>2</td>\n",
       "      <td>2</td>\n",
       "      <td>15</td>\n",
       "      <td>398</td>\n",
       "      <td>472</td>\n",
       "      <td>7</td>\n",
       "      <td>2</td>\n",
       "      <td>29</td>\n",
       "      <td>2</td>\n",
       "      <td>196</td>\n",
       "    </tr>\n",
       "  </tbody>\n",
       "</table>\n",
       "</div>"
      ],
      "text/plain": [
       "                title                  Release dates Running time  \\\n",
       "count             511                            511          508   \n",
       "unique            496                            510          204   \n",
       "top     Freaky Friday  October 18, 1967 ( 1967-10...   93 minutes   \n",
       "freq                2                              2           15   \n",
       "\n",
       "              Country Language          Budget          Box office imdbRating  \\\n",
       "count             507      511             309                 392        490   \n",
       "unique             50       27             242                 387         53   \n",
       "top     United States  English  $5 million [1]  $1.025 billion [5]        6.4   \n",
       "freq              398      472               7                   2         29   \n",
       "\n",
       "       imdbVotes Rated  \n",
       "count        490   490  \n",
       "unique       465    13  \n",
       "top          445     G  \n",
       "freq           2   196  "
      ]
     },
     "execution_count": 12,
     "metadata": {},
     "output_type": "execute_result"
    }
   ],
   "source": [
    "# Gather descriptive statistics about the data\n",
    "df.describe()"
   ]
  },
  {
   "cell_type": "code",
   "execution_count": 13,
   "id": "dcbaedb7",
   "metadata": {
    "execution": {
     "iopub.execute_input": "2023-10-17T08:38:01.274980Z",
     "iopub.status.busy": "2023-10-17T08:38:01.274344Z",
     "iopub.status.idle": "2023-10-17T08:38:01.283535Z",
     "shell.execute_reply": "2023-10-17T08:38:01.282725Z"
    },
    "papermill": {
     "duration": 0.026022,
     "end_time": "2023-10-17T08:38:01.285703",
     "exception": false,
     "start_time": "2023-10-17T08:38:01.259681",
     "status": "completed"
    },
    "tags": []
   },
   "outputs": [
    {
     "data": {
      "text/plain": [
       "0"
      ]
     },
     "execution_count": 13,
     "metadata": {},
     "output_type": "execute_result"
    }
   ],
   "source": [
    "# Check for duplicates\n",
    "df.duplicated().sum()"
   ]
  },
  {
   "cell_type": "markdown",
   "id": "d4065908",
   "metadata": {
    "papermill": {
     "duration": 0.013103,
     "end_time": "2023-10-17T08:38:01.312428",
     "exception": false,
     "start_time": "2023-10-17T08:38:01.299325",
     "status": "completed"
    },
    "tags": []
   },
   "source": [
    "## Clean up inconsistencies in Country, Language and Running time columns"
   ]
  },
  {
   "cell_type": "code",
   "execution_count": 14,
   "id": "a3adec8a",
   "metadata": {
    "execution": {
     "iopub.execute_input": "2023-10-17T08:38:01.341578Z",
     "iopub.status.busy": "2023-10-17T08:38:01.341163Z",
     "iopub.status.idle": "2023-10-17T08:38:01.354439Z",
     "shell.execute_reply": "2023-10-17T08:38:01.353429Z"
    },
    "papermill": {
     "duration": 0.030761,
     "end_time": "2023-10-17T08:38:01.356586",
     "exception": false,
     "start_time": "2023-10-17T08:38:01.325825",
     "status": "completed"
    },
    "tags": []
   },
   "outputs": [
    {
     "data": {
      "text/html": [
       "<div>\n",
       "<style scoped>\n",
       "    .dataframe tbody tr th:only-of-type {\n",
       "        vertical-align: middle;\n",
       "    }\n",
       "\n",
       "    .dataframe tbody tr th {\n",
       "        vertical-align: top;\n",
       "    }\n",
       "\n",
       "    .dataframe thead th {\n",
       "        text-align: right;\n",
       "    }\n",
       "</style>\n",
       "<table border=\"1\" class=\"dataframe\">\n",
       "  <thead>\n",
       "    <tr style=\"text-align: right;\">\n",
       "      <th></th>\n",
       "      <th>Country</th>\n",
       "      <th>Language</th>\n",
       "      <th>Running time</th>\n",
       "    </tr>\n",
       "  </thead>\n",
       "  <tbody>\n",
       "    <tr>\n",
       "      <th>0</th>\n",
       "      <td>United States</td>\n",
       "      <td>English</td>\n",
       "      <td>83 minutes</td>\n",
       "    </tr>\n",
       "    <tr>\n",
       "      <th>1</th>\n",
       "      <td>United States</td>\n",
       "      <td>English</td>\n",
       "      <td>88 minutes</td>\n",
       "    </tr>\n",
       "    <tr>\n",
       "      <th>2</th>\n",
       "      <td>United States</td>\n",
       "      <td>English</td>\n",
       "      <td>126 minutes [1]</td>\n",
       "    </tr>\n",
       "    <tr>\n",
       "      <th>3</th>\n",
       "      <td>United States</td>\n",
       "      <td>English</td>\n",
       "      <td>74 minutes</td>\n",
       "    </tr>\n",
       "    <tr>\n",
       "      <th>4</th>\n",
       "      <td>United States</td>\n",
       "      <td>English</td>\n",
       "      <td>64 minutes</td>\n",
       "    </tr>\n",
       "    <tr>\n",
       "      <th>5</th>\n",
       "      <td>United States</td>\n",
       "      <td>English</td>\n",
       "      <td>70 minutes</td>\n",
       "    </tr>\n",
       "    <tr>\n",
       "      <th>6</th>\n",
       "      <td>United States</td>\n",
       "      <td>English, Portuguese, Spanish</td>\n",
       "      <td>42 minutes</td>\n",
       "    </tr>\n",
       "    <tr>\n",
       "      <th>7</th>\n",
       "      <td>United States</td>\n",
       "      <td>English</td>\n",
       "      <td>65 min</td>\n",
       "    </tr>\n",
       "    <tr>\n",
       "      <th>8</th>\n",
       "      <td>United States</td>\n",
       "      <td>English, Spanish, Portuguese</td>\n",
       "      <td>71 minutes</td>\n",
       "    </tr>\n",
       "    <tr>\n",
       "      <th>9</th>\n",
       "      <td>United States</td>\n",
       "      <td>English</td>\n",
       "      <td>75 minutes</td>\n",
       "    </tr>\n",
       "    <tr>\n",
       "      <th>10</th>\n",
       "      <td>United States</td>\n",
       "      <td>English</td>\n",
       "      <td>94 minutes [1]</td>\n",
       "    </tr>\n",
       "    <tr>\n",
       "      <th>11</th>\n",
       "      <td>United States</td>\n",
       "      <td>English</td>\n",
       "      <td>73 minutes</td>\n",
       "    </tr>\n",
       "    <tr>\n",
       "      <th>12</th>\n",
       "      <td>United States</td>\n",
       "      <td>English</td>\n",
       "      <td>75 minutes</td>\n",
       "    </tr>\n",
       "    <tr>\n",
       "      <th>13</th>\n",
       "      <td>United States</td>\n",
       "      <td>English</td>\n",
       "      <td>82 minutes</td>\n",
       "    </tr>\n",
       "    <tr>\n",
       "      <th>14</th>\n",
       "      <td>United States</td>\n",
       "      <td>English</td>\n",
       "      <td>68 minutes</td>\n",
       "    </tr>\n",
       "    <tr>\n",
       "      <th>15</th>\n",
       "      <td>United States</td>\n",
       "      <td>English</td>\n",
       "      <td>74 minutes</td>\n",
       "    </tr>\n",
       "    <tr>\n",
       "      <th>16</th>\n",
       "      <td>United States United Kingdom</td>\n",
       "      <td>English</td>\n",
       "      <td>96 minutes</td>\n",
       "    </tr>\n",
       "    <tr>\n",
       "      <th>17</th>\n",
       "      <td>United States</td>\n",
       "      <td>English</td>\n",
       "      <td>75 minutes [2]</td>\n",
       "    </tr>\n",
       "    <tr>\n",
       "      <th>18</th>\n",
       "      <td>United States United Kingdom</td>\n",
       "      <td>English</td>\n",
       "      <td>84 minutes</td>\n",
       "    </tr>\n",
       "    <tr>\n",
       "      <th>19</th>\n",
       "      <td>United States</td>\n",
       "      <td>English</td>\n",
       "      <td>77 minutes</td>\n",
       "    </tr>\n",
       "    <tr>\n",
       "      <th>20</th>\n",
       "      <td>United Kingdom United States</td>\n",
       "      <td>English</td>\n",
       "      <td>92 minutes</td>\n",
       "    </tr>\n",
       "    <tr>\n",
       "      <th>21</th>\n",
       "      <td>United States</td>\n",
       "      <td>English</td>\n",
       "      <td>69 minutes</td>\n",
       "    </tr>\n",
       "    <tr>\n",
       "      <th>22</th>\n",
       "      <td>United Kingdom United States</td>\n",
       "      <td>English</td>\n",
       "      <td>81 minutes</td>\n",
       "    </tr>\n",
       "    <tr>\n",
       "      <th>23</th>\n",
       "      <td>United States</td>\n",
       "      <td>English</td>\n",
       "      <td>60 minutes (VHS and Wild D...</td>\n",
       "    </tr>\n",
       "    <tr>\n",
       "      <th>24</th>\n",
       "      <td>United States</td>\n",
       "      <td>English</td>\n",
       "      <td>127 minutes</td>\n",
       "    </tr>\n",
       "  </tbody>\n",
       "</table>\n",
       "</div>"
      ],
      "text/plain": [
       "                         Country                      Language  \\\n",
       "0                  United States                       English   \n",
       "1                  United States                       English   \n",
       "2                  United States                       English   \n",
       "3                  United States                       English   \n",
       "4                  United States                       English   \n",
       "5                  United States                       English   \n",
       "6                  United States  English, Portuguese, Spanish   \n",
       "7                  United States                       English   \n",
       "8                  United States  English, Spanish, Portuguese   \n",
       "9                  United States                       English   \n",
       "10                 United States                       English   \n",
       "11                 United States                       English   \n",
       "12                 United States                       English   \n",
       "13                 United States                       English   \n",
       "14                 United States                       English   \n",
       "15                 United States                       English   \n",
       "16  United States United Kingdom                       English   \n",
       "17                 United States                       English   \n",
       "18  United States United Kingdom                       English   \n",
       "19                 United States                       English   \n",
       "20  United Kingdom United States                       English   \n",
       "21                 United States                       English   \n",
       "22  United Kingdom United States                       English   \n",
       "23                 United States                       English   \n",
       "24                 United States                       English   \n",
       "\n",
       "                     Running time  \n",
       "0                      83 minutes  \n",
       "1                      88 minutes  \n",
       "2                 126 minutes [1]  \n",
       "3                      74 minutes  \n",
       "4                      64 minutes  \n",
       "5                      70 minutes  \n",
       "6                      42 minutes  \n",
       "7                          65 min  \n",
       "8                      71 minutes  \n",
       "9                      75 minutes  \n",
       "10                 94 minutes [1]  \n",
       "11                     73 minutes  \n",
       "12                     75 minutes  \n",
       "13                     82 minutes  \n",
       "14                     68 minutes  \n",
       "15                     74 minutes  \n",
       "16                     96 minutes  \n",
       "17                 75 minutes [2]  \n",
       "18                     84 minutes  \n",
       "19                     77 minutes  \n",
       "20                     92 minutes  \n",
       "21                     69 minutes  \n",
       "22                     81 minutes  \n",
       "23  60 minutes (VHS and Wild D...  \n",
       "24                    127 minutes  "
      ]
     },
     "execution_count": 14,
     "metadata": {},
     "output_type": "execute_result"
    }
   ],
   "source": [
    "# Display these 3 columns\n",
    "df.loc[:, ['Country', 'Language', 'Running time']].head(25)"
   ]
  },
  {
   "cell_type": "code",
   "execution_count": 15,
   "id": "d9365ac3",
   "metadata": {
    "execution": {
     "iopub.execute_input": "2023-10-17T08:38:01.386573Z",
     "iopub.status.busy": "2023-10-17T08:38:01.385961Z",
     "iopub.status.idle": "2023-10-17T08:38:01.409694Z",
     "shell.execute_reply": "2023-10-17T08:38:01.408591Z"
    },
    "papermill": {
     "duration": 0.041202,
     "end_time": "2023-10-17T08:38:01.411807",
     "exception": false,
     "start_time": "2023-10-17T08:38:01.370605",
     "status": "completed"
    },
    "tags": []
   },
   "outputs": [
    {
     "data": {
      "text/html": [
       "<div>\n",
       "<style scoped>\n",
       "    .dataframe tbody tr th:only-of-type {\n",
       "        vertical-align: middle;\n",
       "    }\n",
       "\n",
       "    .dataframe tbody tr th {\n",
       "        vertical-align: top;\n",
       "    }\n",
       "\n",
       "    .dataframe thead th {\n",
       "        text-align: right;\n",
       "    }\n",
       "</style>\n",
       "<table border=\"1\" class=\"dataframe\">\n",
       "  <thead>\n",
       "    <tr style=\"text-align: right;\">\n",
       "      <th></th>\n",
       "      <th>Country</th>\n",
       "      <th>Language</th>\n",
       "      <th>Running time</th>\n",
       "    </tr>\n",
       "  </thead>\n",
       "  <tbody>\n",
       "    <tr>\n",
       "      <th>0</th>\n",
       "      <td>United States</td>\n",
       "      <td>English</td>\n",
       "      <td>83</td>\n",
       "    </tr>\n",
       "    <tr>\n",
       "      <th>1</th>\n",
       "      <td>United States</td>\n",
       "      <td>English</td>\n",
       "      <td>88</td>\n",
       "    </tr>\n",
       "    <tr>\n",
       "      <th>2</th>\n",
       "      <td>United States</td>\n",
       "      <td>English</td>\n",
       "      <td>126</td>\n",
       "    </tr>\n",
       "    <tr>\n",
       "      <th>3</th>\n",
       "      <td>United States</td>\n",
       "      <td>English</td>\n",
       "      <td>74</td>\n",
       "    </tr>\n",
       "    <tr>\n",
       "      <th>4</th>\n",
       "      <td>United States</td>\n",
       "      <td>English</td>\n",
       "      <td>64</td>\n",
       "    </tr>\n",
       "    <tr>\n",
       "      <th>5</th>\n",
       "      <td>United States</td>\n",
       "      <td>English</td>\n",
       "      <td>70</td>\n",
       "    </tr>\n",
       "    <tr>\n",
       "      <th>6</th>\n",
       "      <td>United States</td>\n",
       "      <td>English</td>\n",
       "      <td>42</td>\n",
       "    </tr>\n",
       "    <tr>\n",
       "      <th>7</th>\n",
       "      <td>United States</td>\n",
       "      <td>English</td>\n",
       "      <td>65</td>\n",
       "    </tr>\n",
       "    <tr>\n",
       "      <th>8</th>\n",
       "      <td>United States</td>\n",
       "      <td>English</td>\n",
       "      <td>71</td>\n",
       "    </tr>\n",
       "    <tr>\n",
       "      <th>9</th>\n",
       "      <td>United States</td>\n",
       "      <td>English</td>\n",
       "      <td>75</td>\n",
       "    </tr>\n",
       "  </tbody>\n",
       "</table>\n",
       "</div>"
      ],
      "text/plain": [
       "         Country Language Running time\n",
       "0  United States  English           83\n",
       "1  United States  English           88\n",
       "2  United States  English          126\n",
       "3  United States  English           74\n",
       "4  United States  English           64\n",
       "5  United States  English           70\n",
       "6  United States  English           42\n",
       "7  United States  English           65\n",
       "8  United States  English           71\n",
       "9  United States  English           75"
      ]
     },
     "execution_count": 15,
     "metadata": {},
     "output_type": "execute_result"
    }
   ],
   "source": [
    "# Define the function which is going to split column values by listed symbols and always keep first value\n",
    "def split(column: str, symbols: list = ['[', '(', ',']):\n",
    "    '''split by listed symbols and keep first value, \n",
    "       For example: input - English, ([Russian, Hindi])\n",
    "                    output - English'''\n",
    "    for symbol in symbols:\n",
    "        df[column] = df[column].str.split(symbol).str[0].str.strip()\n",
    "\n",
    "# Make transformations using this function\n",
    "split('Country')\n",
    "split('Language')\n",
    "split('Running time', symbols=[' '])\n",
    "\n",
    "# Make sure that changes were applied to df\n",
    "df.loc[:, ['Country', 'Language', 'Running time']].head(10)"
   ]
  },
  {
   "cell_type": "markdown",
   "id": "28708789",
   "metadata": {
    "papermill": {
     "duration": 0.014082,
     "end_time": "2023-10-17T08:38:01.440100",
     "exception": false,
     "start_time": "2023-10-17T08:38:01.426018",
     "status": "completed"
    },
    "tags": []
   },
   "source": [
    "## Replace missing values with mean value in Running Time column"
   ]
  },
  {
   "cell_type": "code",
   "execution_count": 16,
   "id": "a76147f1",
   "metadata": {
    "execution": {
     "iopub.execute_input": "2023-10-17T08:38:01.472196Z",
     "iopub.status.busy": "2023-10-17T08:38:01.471439Z",
     "iopub.status.idle": "2023-10-17T08:38:01.478712Z",
     "shell.execute_reply": "2023-10-17T08:38:01.477747Z"
    },
    "papermill": {
     "duration": 0.025805,
     "end_time": "2023-10-17T08:38:01.480794",
     "exception": false,
     "start_time": "2023-10-17T08:38:01.454989",
     "status": "completed"
    },
    "tags": []
   },
   "outputs": [
    {
     "data": {
      "text/plain": [
       "3"
      ]
     },
     "execution_count": 16,
     "metadata": {},
     "output_type": "execute_result"
    }
   ],
   "source": [
    "df['Running time'].isna().sum()"
   ]
  },
  {
   "cell_type": "code",
   "execution_count": 17,
   "id": "7162c235",
   "metadata": {
    "execution": {
     "iopub.execute_input": "2023-10-17T08:38:01.511989Z",
     "iopub.status.busy": "2023-10-17T08:38:01.511207Z",
     "iopub.status.idle": "2023-10-17T08:38:01.521680Z",
     "shell.execute_reply": "2023-10-17T08:38:01.520463Z"
    },
    "papermill": {
     "duration": 0.028782,
     "end_time": "2023-10-17T08:38:01.523829",
     "exception": false,
     "start_time": "2023-10-17T08:38:01.495047",
     "status": "completed"
    },
    "tags": []
   },
   "outputs": [
    {
     "data": {
      "text/plain": [
       "0"
      ]
     },
     "execution_count": 17,
     "metadata": {},
     "output_type": "execute_result"
    }
   ],
   "source": [
    "# Fill in the missing values with 0\n",
    "df['Running time'] = df['Running time'].fillna('0')\n",
    "\n",
    "# Change datatype \n",
    "df['Running time'] = df['Running time'].astype(int)\n",
    "\n",
    "# Calculate the mean \n",
    "rt_mean = int(df['Running time'].mean())\n",
    "\n",
    "# Replace all missing values with mean value\n",
    "df['Running time'] = df['Running time'].replace(0, rt_mean)\n",
    "\n",
    "# Make sure the changes were applied\n",
    "df['Running time'].isna().sum()"
   ]
  },
  {
   "cell_type": "markdown",
   "id": "1f38bf44",
   "metadata": {
    "papermill": {
     "duration": 0.014099,
     "end_time": "2023-10-17T08:38:01.552337",
     "exception": false,
     "start_time": "2023-10-17T08:38:01.538238",
     "status": "completed"
    },
    "tags": []
   },
   "source": [
    "## Replace missing values in Country column"
   ]
  },
  {
   "cell_type": "code",
   "execution_count": 18,
   "id": "12b46c70",
   "metadata": {
    "execution": {
     "iopub.execute_input": "2023-10-17T08:38:01.583608Z",
     "iopub.status.busy": "2023-10-17T08:38:01.582844Z",
     "iopub.status.idle": "2023-10-17T08:38:01.590212Z",
     "shell.execute_reply": "2023-10-17T08:38:01.589059Z"
    },
    "papermill": {
     "duration": 0.025821,
     "end_time": "2023-10-17T08:38:01.592499",
     "exception": false,
     "start_time": "2023-10-17T08:38:01.566678",
     "status": "completed"
    },
    "tags": []
   },
   "outputs": [
    {
     "data": {
      "text/plain": [
       "4"
      ]
     },
     "execution_count": 18,
     "metadata": {},
     "output_type": "execute_result"
    }
   ],
   "source": [
    "# Check for missing values in the column\n",
    "df['Country'].isna().sum()"
   ]
  },
  {
   "cell_type": "code",
   "execution_count": 19,
   "id": "ec15d700",
   "metadata": {
    "execution": {
     "iopub.execute_input": "2023-10-17T08:38:01.624458Z",
     "iopub.status.busy": "2023-10-17T08:38:01.623484Z",
     "iopub.status.idle": "2023-10-17T08:38:01.632519Z",
     "shell.execute_reply": "2023-10-17T08:38:01.631479Z"
    },
    "papermill": {
     "duration": 0.027162,
     "end_time": "2023-10-17T08:38:01.634606",
     "exception": false,
     "start_time": "2023-10-17T08:38:01.607444",
     "status": "completed"
    },
    "tags": []
   },
   "outputs": [
    {
     "data": {
      "text/plain": [
       "Country\n",
       "United States                           443\n",
       "United Kingdom United States             12\n",
       "United States Canada                      9\n",
       "India                                     7\n",
       "United States Australia                   4\n",
       "Russia                                    4\n",
       "United States United Kingdom              4\n",
       "Australia                                 3\n",
       "France                                    3\n",
       "United States France United Kingdom       2\n",
       "Germany                                   2\n",
       "Canada                                    2\n",
       "United Kingdom                            2\n",
       "India United States                       1\n",
       "France United States                      1\n",
       "United States Canada Australia            1\n",
       "United States United Kingdom Germany      1\n",
       "Japan                                     1\n",
       "United States France                      1\n",
       "United States Austria                     1\n",
       "Norway Sweden United States               1\n",
       "United States Mexico                      1\n",
       "United States Greece                      1\n",
       "Name: count, dtype: int64"
      ]
     },
     "execution_count": 19,
     "metadata": {},
     "output_type": "execute_result"
    }
   ],
   "source": [
    "# Check the distribution of Countries\n",
    "df['Country'].value_counts()\n"
   ]
  },
  {
   "cell_type": "code",
   "execution_count": 20,
   "id": "bf0e71a2",
   "metadata": {
    "execution": {
     "iopub.execute_input": "2023-10-17T08:38:01.665685Z",
     "iopub.status.busy": "2023-10-17T08:38:01.665299Z",
     "iopub.status.idle": "2023-10-17T08:38:01.678492Z",
     "shell.execute_reply": "2023-10-17T08:38:01.677647Z"
    },
    "papermill": {
     "duration": 0.030872,
     "end_time": "2023-10-17T08:38:01.680381",
     "exception": false,
     "start_time": "2023-10-17T08:38:01.649509",
     "status": "completed"
    },
    "tags": []
   },
   "outputs": [
    {
     "data": {
      "text/plain": [
       "0"
      ]
     },
     "execution_count": 20,
     "metadata": {},
     "output_type": "execute_result"
    }
   ],
   "source": [
    "# There is majority of 'United States' values so i decided to fill in the missing values using backfill method because it won't make any serious difference in results\n",
    "df['Country'] = df['Country'].fillna(method='bfill')\n",
    "\n",
    "# Make sure missing values are gone\n",
    "df['Country'].isna().sum()"
   ]
  },
  {
   "cell_type": "markdown",
   "id": "7a7b81e7",
   "metadata": {
    "papermill": {
     "duration": 0.014269,
     "end_time": "2023-10-17T08:38:01.709703",
     "exception": false,
     "start_time": "2023-10-17T08:38:01.695434",
     "status": "completed"
    },
    "tags": []
   },
   "source": [
    "## Clean up values in Budget and Box office columns"
   ]
  },
  {
   "cell_type": "code",
   "execution_count": 21,
   "id": "b71e8652",
   "metadata": {
    "execution": {
     "iopub.execute_input": "2023-10-17T08:38:01.741759Z",
     "iopub.status.busy": "2023-10-17T08:38:01.741152Z",
     "iopub.status.idle": "2023-10-17T08:38:01.749256Z",
     "shell.execute_reply": "2023-10-17T08:38:01.748461Z"
    },
    "papermill": {
     "duration": 0.026247,
     "end_time": "2023-10-17T08:38:01.751388",
     "exception": false,
     "start_time": "2023-10-17T08:38:01.725141",
     "status": "completed"
    },
    "tags": []
   },
   "outputs": [],
   "source": [
    "# Define a dictionary with pairs of numbers in text: digit formats\n",
    "dic = {'million': 1000000, \n",
    "    'billion': 1000000000}\n",
    "\n",
    "def transform(x: str):\n",
    "    '''transform \"121 million\" like values into numeric'''\n",
    "    x = re.findall(r'\\d+\\.?\\d*\\s?(?:thousand|million|billion)?', x)\n",
    "    # If regular expression found something\n",
    "    if x:\n",
    "        # It might be a situation when regex will find 2 values, so x[-1] statement obligates to take the second which is the highest value from both\n",
    "        x = x[-1]\n",
    "        # Deals with situations when value format is like '196.5 million'\n",
    "        try:\n",
    "            # split '196.5 million' by space into 2 separate variables: first = 196.5, second = million\n",
    "            first, second = x.split(' ')\n",
    "            # convert 'million' into digit format and multiplicate it with 196.5\n",
    "            return int(float(first) * dic[second])\n",
    "        # If an error occured it indicates that the value in plain digit format like '200' without string additions\n",
    "        except (KeyError, ValueError):\n",
    "            # Strip spaces from value and return it\n",
    "            return x.strip()\n",
    "    # If nothing was found return 0\n",
    "    return '0'\n",
    "\n",
    "# Define the function which is going to clean up inconsistent values and then apply the transform function\n",
    "def money_to_numeric(column_name: str):\n",
    "    df[column_name] = df[column_name].str.split('[').str[0].str.replace(',', '')\n",
    "    df[column_name] = df[column_name].str.extract(r'((?:\\d+.*\\d+|\\d+) (?:thousand|million|billion)?)')\n",
    "    df[column_name] = df[column_name].fillna('0').str.replace('$', '').str.strip()\n",
    "    df[column_name] = df[column_name].apply(transform)\n",
    "    return None\n",
    "\n"
   ]
  },
  {
   "cell_type": "code",
   "execution_count": 22,
   "id": "a53e6057",
   "metadata": {
    "execution": {
     "iopub.execute_input": "2023-10-17T08:38:01.783631Z",
     "iopub.status.busy": "2023-10-17T08:38:01.782871Z",
     "iopub.status.idle": "2023-10-17T08:38:01.802449Z",
     "shell.execute_reply": "2023-10-17T08:38:01.801448Z"
    },
    "papermill": {
     "duration": 0.038968,
     "end_time": "2023-10-17T08:38:01.805053",
     "exception": false,
     "start_time": "2023-10-17T08:38:01.766085",
     "status": "completed"
    },
    "tags": []
   },
   "outputs": [],
   "source": [
    "# Apply the function to the columns\n",
    "money_to_numeric('Budget')\n",
    "money_to_numeric('Box office')"
   ]
  },
  {
   "cell_type": "code",
   "execution_count": 23,
   "id": "eac0b725",
   "metadata": {
    "execution": {
     "iopub.execute_input": "2023-10-17T08:38:01.837711Z",
     "iopub.status.busy": "2023-10-17T08:38:01.836845Z",
     "iopub.status.idle": "2023-10-17T08:38:01.848837Z",
     "shell.execute_reply": "2023-10-17T08:38:01.847543Z"
    },
    "papermill": {
     "duration": 0.030745,
     "end_time": "2023-10-17T08:38:01.850975",
     "exception": false,
     "start_time": "2023-10-17T08:38:01.820230",
     "status": "completed"
    },
    "tags": []
   },
   "outputs": [
    {
     "data": {
      "text/html": [
       "<div>\n",
       "<style scoped>\n",
       "    .dataframe tbody tr th:only-of-type {\n",
       "        vertical-align: middle;\n",
       "    }\n",
       "\n",
       "    .dataframe tbody tr th {\n",
       "        vertical-align: top;\n",
       "    }\n",
       "\n",
       "    .dataframe thead th {\n",
       "        text-align: right;\n",
       "    }\n",
       "</style>\n",
       "<table border=\"1\" class=\"dataframe\">\n",
       "  <thead>\n",
       "    <tr style=\"text-align: right;\">\n",
       "      <th></th>\n",
       "      <th>Budget</th>\n",
       "      <th>Box office</th>\n",
       "    </tr>\n",
       "  </thead>\n",
       "  <tbody>\n",
       "    <tr>\n",
       "      <th>0</th>\n",
       "      <td>1500000</td>\n",
       "      <td>418000000</td>\n",
       "    </tr>\n",
       "    <tr>\n",
       "      <th>1</th>\n",
       "      <td>2600000</td>\n",
       "      <td>164000000</td>\n",
       "    </tr>\n",
       "    <tr>\n",
       "      <th>2</th>\n",
       "      <td>2280000</td>\n",
       "      <td>83300000</td>\n",
       "    </tr>\n",
       "    <tr>\n",
       "      <th>3</th>\n",
       "      <td>600000</td>\n",
       "      <td>960000</td>\n",
       "    </tr>\n",
       "    <tr>\n",
       "      <th>4</th>\n",
       "      <td>950000</td>\n",
       "      <td>1300000</td>\n",
       "    </tr>\n",
       "    <tr>\n",
       "      <th>5</th>\n",
       "      <td>858000</td>\n",
       "      <td>267399999</td>\n",
       "    </tr>\n",
       "    <tr>\n",
       "      <th>6</th>\n",
       "      <td>0</td>\n",
       "      <td>1000000</td>\n",
       "    </tr>\n",
       "    <tr>\n",
       "      <th>7</th>\n",
       "      <td>0</td>\n",
       "      <td>0</td>\n",
       "    </tr>\n",
       "    <tr>\n",
       "      <th>8</th>\n",
       "      <td>0</td>\n",
       "      <td>3355000</td>\n",
       "    </tr>\n",
       "    <tr>\n",
       "      <th>9</th>\n",
       "      <td>1350000</td>\n",
       "      <td>3275000</td>\n",
       "    </tr>\n",
       "  </tbody>\n",
       "</table>\n",
       "</div>"
      ],
      "text/plain": [
       "    Budget Box office\n",
       "0  1500000  418000000\n",
       "1  2600000  164000000\n",
       "2  2280000   83300000\n",
       "3   600000     960000\n",
       "4   950000    1300000\n",
       "5   858000  267399999\n",
       "6        0    1000000\n",
       "7        0          0\n",
       "8        0    3355000\n",
       "9  1350000    3275000"
      ]
     },
     "execution_count": 23,
     "metadata": {},
     "output_type": "execute_result"
    }
   ],
   "source": [
    "# Make sure the changes are applied to the columns\n",
    "df.loc[:, ['Budget', 'Box office']].head(10)"
   ]
  },
  {
   "cell_type": "markdown",
   "id": "7d1747a3",
   "metadata": {
    "papermill": {
     "duration": 0.014758,
     "end_time": "2023-10-17T08:38:01.880934",
     "exception": false,
     "start_time": "2023-10-17T08:38:01.866176",
     "status": "completed"
    },
    "tags": []
   },
   "source": [
    "## Change string data values into the datetime format"
   ]
  },
  {
   "cell_type": "code",
   "execution_count": 24,
   "id": "0bdd6eae",
   "metadata": {
    "execution": {
     "iopub.execute_input": "2023-10-17T08:38:01.912949Z",
     "iopub.status.busy": "2023-10-17T08:38:01.912336Z",
     "iopub.status.idle": "2023-10-17T08:38:01.931028Z",
     "shell.execute_reply": "2023-10-17T08:38:01.929566Z"
    },
    "papermill": {
     "duration": 0.038034,
     "end_time": "2023-10-17T08:38:01.934075",
     "exception": false,
     "start_time": "2023-10-17T08:38:01.896041",
     "status": "completed"
    },
    "tags": []
   },
   "outputs": [],
   "source": [
    "# In the Release dates column the dates are in two different formats, i'm going to make a copy of this column and apply different formats to different columns when transforming\n",
    "\n",
    "# Make a copy of the Release dates column\n",
    "df['dates_copy'] = df['Release dates'].copy()\n",
    "\n",
    "# Extract datetime using the first datetime format\n",
    "df['Release dates'] = df['Release dates'].str.extract(r'(\\w+ \\d+, \\d+)')\n",
    "df['Release dates'] = pd.to_datetime(df['Release dates'], format='%B %d, %Y', errors='coerce')\n",
    "\n",
    "# Extract datetime using the second datetime format\n",
    "df['dates_copy'] = df['dates_copy'].str.extract(r'(\\d+ \\w+ \\d+)')\n",
    "df['dates_copy'] = pd.to_datetime(df['dates_copy'], format='%d %B %Y', errors='coerce')"
   ]
  },
  {
   "cell_type": "code",
   "execution_count": 25,
   "id": "1d739c59",
   "metadata": {
    "execution": {
     "iopub.execute_input": "2023-10-17T08:38:01.967017Z",
     "iopub.status.busy": "2023-10-17T08:38:01.965955Z",
     "iopub.status.idle": "2023-10-17T08:38:01.975927Z",
     "shell.execute_reply": "2023-10-17T08:38:01.975142Z"
    },
    "papermill": {
     "duration": 0.028214,
     "end_time": "2023-10-17T08:38:01.977924",
     "exception": false,
     "start_time": "2023-10-17T08:38:01.949710",
     "status": "completed"
    },
    "tags": []
   },
   "outputs": [
    {
     "data": {
      "text/html": [
       "<div>\n",
       "<style scoped>\n",
       "    .dataframe tbody tr th:only-of-type {\n",
       "        vertical-align: middle;\n",
       "    }\n",
       "\n",
       "    .dataframe tbody tr th {\n",
       "        vertical-align: top;\n",
       "    }\n",
       "\n",
       "    .dataframe thead th {\n",
       "        text-align: right;\n",
       "    }\n",
       "</style>\n",
       "<table border=\"1\" class=\"dataframe\">\n",
       "  <thead>\n",
       "    <tr style=\"text-align: right;\">\n",
       "      <th></th>\n",
       "      <th>Release dates</th>\n",
       "      <th>dates_copy</th>\n",
       "    </tr>\n",
       "  </thead>\n",
       "  <tbody>\n",
       "    <tr>\n",
       "      <th>15</th>\n",
       "      <td>1950-02-15</td>\n",
       "      <td>NaT</td>\n",
       "    </tr>\n",
       "    <tr>\n",
       "      <th>16</th>\n",
       "      <td>1950-06-22</td>\n",
       "      <td>NaT</td>\n",
       "    </tr>\n",
       "    <tr>\n",
       "      <th>17</th>\n",
       "      <td>1951-07-26</td>\n",
       "      <td>NaT</td>\n",
       "    </tr>\n",
       "    <tr>\n",
       "      <th>18</th>\n",
       "      <td>NaT</td>\n",
       "      <td>1952-03-13</td>\n",
       "    </tr>\n",
       "    <tr>\n",
       "      <th>19</th>\n",
       "      <td>1953-02-05</td>\n",
       "      <td>NaT</td>\n",
       "    </tr>\n",
       "    <tr>\n",
       "      <th>20</th>\n",
       "      <td>1953-07-23</td>\n",
       "      <td>NaT</td>\n",
       "    </tr>\n",
       "    <tr>\n",
       "      <th>21</th>\n",
       "      <td>1953-11-10</td>\n",
       "      <td>NaT</td>\n",
       "    </tr>\n",
       "    <tr>\n",
       "      <th>22</th>\n",
       "      <td>NaT</td>\n",
       "      <td>1953-10-26</td>\n",
       "    </tr>\n",
       "    <tr>\n",
       "      <th>23</th>\n",
       "      <td>1954-08-17</td>\n",
       "      <td>NaT</td>\n",
       "    </tr>\n",
       "    <tr>\n",
       "      <th>24</th>\n",
       "      <td>1954-12-23</td>\n",
       "      <td>NaT</td>\n",
       "    </tr>\n",
       "  </tbody>\n",
       "</table>\n",
       "</div>"
      ],
      "text/plain": [
       "   Release dates dates_copy\n",
       "15    1950-02-15        NaT\n",
       "16    1950-06-22        NaT\n",
       "17    1951-07-26        NaT\n",
       "18           NaT 1952-03-13\n",
       "19    1953-02-05        NaT\n",
       "20    1953-07-23        NaT\n",
       "21    1953-11-10        NaT\n",
       "22           NaT 1953-10-26\n",
       "23    1954-08-17        NaT\n",
       "24    1954-12-23        NaT"
      ]
     },
     "execution_count": 25,
     "metadata": {},
     "output_type": "execute_result"
    }
   ],
   "source": [
    "# Check what happened to out date columns\n",
    "df[['Release dates', 'dates_copy']].iloc[15:25]"
   ]
  },
  {
   "cell_type": "code",
   "execution_count": 26,
   "id": "83a7075e",
   "metadata": {
    "execution": {
     "iopub.execute_input": "2023-10-17T08:38:02.010331Z",
     "iopub.status.busy": "2023-10-17T08:38:02.009272Z",
     "iopub.status.idle": "2023-10-17T08:38:02.026658Z",
     "shell.execute_reply": "2023-10-17T08:38:02.025158Z"
    },
    "papermill": {
     "duration": 0.035787,
     "end_time": "2023-10-17T08:38:02.028866",
     "exception": false,
     "start_time": "2023-10-17T08:38:01.993079",
     "status": "completed"
    },
    "tags": []
   },
   "outputs": [
    {
     "data": {
      "text/plain": [
       "15   1950-02-15\n",
       "16   1950-06-22\n",
       "17   1951-07-26\n",
       "18   1952-03-13\n",
       "19   1953-02-05\n",
       "20   1953-07-23\n",
       "21   1953-11-10\n",
       "22   1953-10-26\n",
       "23   1954-08-17\n",
       "24   1954-12-23\n",
       "Name: Release dates, dtype: datetime64[ns]"
      ]
     },
     "execution_count": 26,
     "metadata": {},
     "output_type": "execute_result"
    }
   ],
   "source": [
    "# Fill themissing values in Release dates column with corresponding values from dates copy\n",
    "df['Release dates'] = df.apply(lambda x: x['dates_copy'] if x['Release dates'] is pd.NaT else x['Release dates'], axis=1)\n",
    "\n",
    "# Drop copied column \n",
    "del df['dates_copy']\n",
    "\n",
    "# Make sure the changes were applied\n",
    "df['Release dates'].iloc[15:25]"
   ]
  },
  {
   "cell_type": "code",
   "execution_count": 27,
   "id": "de11fb65",
   "metadata": {
    "execution": {
     "iopub.execute_input": "2023-10-17T08:38:02.062317Z",
     "iopub.status.busy": "2023-10-17T08:38:02.061658Z",
     "iopub.status.idle": "2023-10-17T08:38:02.068154Z",
     "shell.execute_reply": "2023-10-17T08:38:02.066915Z"
    },
    "papermill": {
     "duration": 0.025499,
     "end_time": "2023-10-17T08:38:02.070243",
     "exception": false,
     "start_time": "2023-10-17T08:38:02.044744",
     "status": "completed"
    },
    "tags": []
   },
   "outputs": [
    {
     "data": {
      "text/plain": [
       "3"
      ]
     },
     "execution_count": 27,
     "metadata": {},
     "output_type": "execute_result"
    }
   ],
   "source": [
    "# Check for missing values \n",
    "df['Release dates'].isna().sum()"
   ]
  },
  {
   "cell_type": "code",
   "execution_count": 28,
   "id": "002b86cf",
   "metadata": {
    "execution": {
     "iopub.execute_input": "2023-10-17T08:38:02.103585Z",
     "iopub.status.busy": "2023-10-17T08:38:02.102935Z",
     "iopub.status.idle": "2023-10-17T08:38:02.110809Z",
     "shell.execute_reply": "2023-10-17T08:38:02.109873Z"
    },
    "papermill": {
     "duration": 0.027127,
     "end_time": "2023-10-17T08:38:02.112861",
     "exception": false,
     "start_time": "2023-10-17T08:38:02.085734",
     "status": "completed"
    },
    "tags": []
   },
   "outputs": [
    {
     "data": {
      "text/plain": [
       "0"
      ]
     },
     "execution_count": 28,
     "metadata": {},
     "output_type": "execute_result"
    }
   ],
   "source": [
    "# I decided to exclude these missing values from the dataset \n",
    "df = df[~df['Release dates'].isna()]\n",
    "df['Release dates'].isna().sum()"
   ]
  },
  {
   "cell_type": "markdown",
   "id": "5bec88af",
   "metadata": {
    "papermill": {
     "duration": 0.01786,
     "end_time": "2023-10-17T08:38:02.146081",
     "exception": false,
     "start_time": "2023-10-17T08:38:02.128221",
     "status": "completed"
    },
    "tags": []
   },
   "source": [
    "## Fill in missing values in the imdbVotes, imdbRating and Rated columns"
   ]
  },
  {
   "cell_type": "code",
   "execution_count": 29,
   "id": "256a607f",
   "metadata": {
    "execution": {
     "iopub.execute_input": "2023-10-17T08:38:02.180284Z",
     "iopub.status.busy": "2023-10-17T08:38:02.179266Z",
     "iopub.status.idle": "2023-10-17T08:38:02.193479Z",
     "shell.execute_reply": "2023-10-17T08:38:02.192686Z"
    },
    "papermill": {
     "duration": 0.033289,
     "end_time": "2023-10-17T08:38:02.195509",
     "exception": false,
     "start_time": "2023-10-17T08:38:02.162220",
     "status": "completed"
    },
    "tags": []
   },
   "outputs": [
    {
     "data": {
      "text/plain": [
       "imdbVotes     0\n",
       "imdbRating    0\n",
       "Rated         0\n",
       "dtype: int64"
      ]
     },
     "execution_count": 29,
     "metadata": {},
     "output_type": "execute_result"
    }
   ],
   "source": [
    "# Make some cleaning steps to imdbVotes column\n",
    "df['imdbVotes'] = df['imdbVotes'].str.replace(',', '').str.replace('N/A', '0')\n",
    "\n",
    "# Fill in missing values with '0' in imdbVotes column\n",
    "df['imdbVotes'] = df['imdbVotes'].fillna('0')\n",
    "\n",
    "# Fill in missing values with '0' in imdbRating column\n",
    "df['imdbRating'] = df['imdbRating'].fillna('0').str.replace('N/A', '0')\n",
    "\n",
    "# Fill in missing values with 'Unrated' in Rated column\n",
    "df['Rated'] = df['Rated'].fillna('Unrated').str.replace('N/A', 'Unrated').str.replace('Not Rated', 'Unrated')\n",
    "\n",
    "# Check missing values in these columns\n",
    "df[['imdbVotes', 'imdbRating', 'Rated']].isna().sum()"
   ]
  },
  {
   "cell_type": "markdown",
   "id": "1e1baebc",
   "metadata": {
    "papermill": {
     "duration": 0.01515,
     "end_time": "2023-10-17T08:38:02.226118",
     "exception": false,
     "start_time": "2023-10-17T08:38:02.210968",
     "status": "completed"
    },
    "tags": []
   },
   "source": [
    "## Make some other data transformation steps"
   ]
  },
  {
   "cell_type": "code",
   "execution_count": 30,
   "id": "baf7d7bc",
   "metadata": {
    "execution": {
     "iopub.execute_input": "2023-10-17T08:38:02.258853Z",
     "iopub.status.busy": "2023-10-17T08:38:02.258184Z",
     "iopub.status.idle": "2023-10-17T08:38:02.262528Z",
     "shell.execute_reply": "2023-10-17T08:38:02.261735Z"
    },
    "papermill": {
     "duration": 0.022994,
     "end_time": "2023-10-17T08:38:02.264534",
     "exception": false,
     "start_time": "2023-10-17T08:38:02.241540",
     "status": "completed"
    },
    "tags": []
   },
   "outputs": [],
   "source": [
    "# Rename dataframe columns\n",
    "df.columns = ['Title', 'Released', 'Running_time', 'Country', 'Language', 'Budget', 'Box_office', 'imdbRating', 'imdbVotes', 'Rated']"
   ]
  },
  {
   "cell_type": "code",
   "execution_count": 31,
   "id": "1d542fce",
   "metadata": {
    "execution": {
     "iopub.execute_input": "2023-10-17T08:38:02.298849Z",
     "iopub.status.busy": "2023-10-17T08:38:02.298473Z",
     "iopub.status.idle": "2023-10-17T08:38:02.310622Z",
     "shell.execute_reply": "2023-10-17T08:38:02.309225Z"
    },
    "papermill": {
     "duration": 0.032883,
     "end_time": "2023-10-17T08:38:02.312950",
     "exception": false,
     "start_time": "2023-10-17T08:38:02.280067",
     "status": "completed"
    },
    "tags": []
   },
   "outputs": [
    {
     "data": {
      "text/plain": [
       "Title                   object\n",
       "Released        datetime64[ns]\n",
       "Running_time             int64\n",
       "Country                 object\n",
       "Language                object\n",
       "Budget                 float64\n",
       "Box_office             float64\n",
       "imdbRating             float64\n",
       "imdbVotes                int64\n",
       "Rated                   object\n",
       "dtype: object"
      ]
     },
     "execution_count": 31,
     "metadata": {},
     "output_type": "execute_result"
    }
   ],
   "source": [
    "# Convert dtypes \n",
    "df = df.astype({'Title':str, 'Released':'datetime64[ns]', 'Running_time':int, 'Country':str, 'Language':str, 'Budget':float, 'Box_office':float, 'imdbRating':float, 'imdbVotes':int, 'Rated':str})\n",
    "\n",
    "# Check columns datatypes\n",
    "df.dtypes"
   ]
  },
  {
   "cell_type": "code",
   "execution_count": 32,
   "id": "6a532b21",
   "metadata": {
    "execution": {
     "iopub.execute_input": "2023-10-17T08:38:02.347415Z",
     "iopub.status.busy": "2023-10-17T08:38:02.347046Z",
     "iopub.status.idle": "2023-10-17T08:38:02.353751Z",
     "shell.execute_reply": "2023-10-17T08:38:02.352545Z"
    },
    "papermill": {
     "duration": 0.026707,
     "end_time": "2023-10-17T08:38:02.355773",
     "exception": false,
     "start_time": "2023-10-17T08:38:02.329066",
     "status": "completed"
    },
    "tags": []
   },
   "outputs": [],
   "source": [
    "# Change money values back to format displaying how many millions are there in the value\n",
    "df['Budget'] = df['Budget'] / 1000000\n",
    "df['Box_office'] = df['Box_office'] / 1000000"
   ]
  },
  {
   "cell_type": "code",
   "execution_count": 33,
   "id": "4692bcca",
   "metadata": {
    "execution": {
     "iopub.execute_input": "2023-10-17T08:38:02.389540Z",
     "iopub.status.busy": "2023-10-17T08:38:02.388883Z",
     "iopub.status.idle": "2023-10-17T08:38:02.399447Z",
     "shell.execute_reply": "2023-10-17T08:38:02.398190Z"
    },
    "papermill": {
     "duration": 0.029309,
     "end_time": "2023-10-17T08:38:02.401379",
     "exception": false,
     "start_time": "2023-10-17T08:38:02.372070",
     "status": "completed"
    },
    "tags": []
   },
   "outputs": [
    {
     "data": {
      "text/plain": [
       "Title           0\n",
       "Released        0\n",
       "Running_time    0\n",
       "Country         0\n",
       "Language        0\n",
       "Budget          0\n",
       "Box_office      0\n",
       "imdbRating      0\n",
       "imdbVotes       0\n",
       "Rated           0\n",
       "dtype: int64"
      ]
     },
     "execution_count": 33,
     "metadata": {},
     "output_type": "execute_result"
    }
   ],
   "source": [
    "df.isna().sum()"
   ]
  },
  {
   "cell_type": "code",
   "execution_count": 34,
   "id": "68ce8e69",
   "metadata": {
    "execution": {
     "iopub.execute_input": "2023-10-17T08:38:02.436253Z",
     "iopub.status.busy": "2023-10-17T08:38:02.435889Z",
     "iopub.status.idle": "2023-10-17T08:38:02.464497Z",
     "shell.execute_reply": "2023-10-17T08:38:02.463701Z"
    },
    "papermill": {
     "duration": 0.048042,
     "end_time": "2023-10-17T08:38:02.466342",
     "exception": false,
     "start_time": "2023-10-17T08:38:02.418300",
     "status": "completed"
    },
    "tags": []
   },
   "outputs": [
    {
     "data": {
      "text/html": [
       "<div>\n",
       "<style scoped>\n",
       "    .dataframe tbody tr th:only-of-type {\n",
       "        vertical-align: middle;\n",
       "    }\n",
       "\n",
       "    .dataframe tbody tr th {\n",
       "        vertical-align: top;\n",
       "    }\n",
       "\n",
       "    .dataframe thead th {\n",
       "        text-align: right;\n",
       "    }\n",
       "</style>\n",
       "<table border=\"1\" class=\"dataframe\">\n",
       "  <thead>\n",
       "    <tr style=\"text-align: right;\">\n",
       "      <th></th>\n",
       "      <th>Released</th>\n",
       "      <th>Running_time</th>\n",
       "      <th>Budget</th>\n",
       "      <th>Box_office</th>\n",
       "      <th>imdbRating</th>\n",
       "      <th>imdbVotes</th>\n",
       "    </tr>\n",
       "  </thead>\n",
       "  <tbody>\n",
       "    <tr>\n",
       "      <th>count</th>\n",
       "      <td>508</td>\n",
       "      <td>508.000000</td>\n",
       "      <td>508.000000</td>\n",
       "      <td>508.000000</td>\n",
       "      <td>508.000000</td>\n",
       "      <td>5.080000e+02</td>\n",
       "    </tr>\n",
       "    <tr>\n",
       "      <th>mean</th>\n",
       "      <td>1994-06-02 01:19:22.204724352</td>\n",
       "      <td>95.759843</td>\n",
       "      <td>44.398451</td>\n",
       "      <td>134.730802</td>\n",
       "      <td>6.150394</td>\n",
       "      <td>9.240788e+04</td>\n",
       "    </tr>\n",
       "    <tr>\n",
       "      <th>min</th>\n",
       "      <td>1937-12-21 00:00:00</td>\n",
       "      <td>40.000000</td>\n",
       "      <td>0.000000</td>\n",
       "      <td>0.000000</td>\n",
       "      <td>0.000000</td>\n",
       "      <td>0.000000e+00</td>\n",
       "    </tr>\n",
       "    <tr>\n",
       "      <th>25%</th>\n",
       "      <td>1976-12-16 18:00:00</td>\n",
       "      <td>82.000000</td>\n",
       "      <td>0.000000</td>\n",
       "      <td>0.000074</td>\n",
       "      <td>5.700000</td>\n",
       "      <td>1.927250e+03</td>\n",
       "    </tr>\n",
       "    <tr>\n",
       "      <th>50%</th>\n",
       "      <td>2000-09-24 00:00:00</td>\n",
       "      <td>95.000000</td>\n",
       "      <td>6.000000</td>\n",
       "      <td>18.603746</td>\n",
       "      <td>6.450000</td>\n",
       "      <td>1.517600e+04</td>\n",
       "    </tr>\n",
       "    <tr>\n",
       "      <th>75%</th>\n",
       "      <td>2010-11-18 00:00:00</td>\n",
       "      <td>106.000000</td>\n",
       "      <td>47.750000</td>\n",
       "      <td>134.475000</td>\n",
       "      <td>7.100000</td>\n",
       "      <td>1.014675e+05</td>\n",
       "    </tr>\n",
       "    <tr>\n",
       "      <th>max</th>\n",
       "      <td>2023-07-15 00:00:00</td>\n",
       "      <td>169.000000</td>\n",
       "      <td>650.000000</td>\n",
       "      <td>2196.000000</td>\n",
       "      <td>8.800000</td>\n",
       "      <td>1.168644e+06</td>\n",
       "    </tr>\n",
       "    <tr>\n",
       "      <th>std</th>\n",
       "      <td>NaN</td>\n",
       "      <td>19.320646</td>\n",
       "      <td>77.727995</td>\n",
       "      <td>276.716179</td>\n",
       "      <td>1.648913</td>\n",
       "      <td>1.843883e+05</td>\n",
       "    </tr>\n",
       "  </tbody>\n",
       "</table>\n",
       "</div>"
      ],
      "text/plain": [
       "                            Released  Running_time      Budget   Box_office  \\\n",
       "count                            508    508.000000  508.000000   508.000000   \n",
       "mean   1994-06-02 01:19:22.204724352     95.759843   44.398451   134.730802   \n",
       "min              1937-12-21 00:00:00     40.000000    0.000000     0.000000   \n",
       "25%              1976-12-16 18:00:00     82.000000    0.000000     0.000074   \n",
       "50%              2000-09-24 00:00:00     95.000000    6.000000    18.603746   \n",
       "75%              2010-11-18 00:00:00    106.000000   47.750000   134.475000   \n",
       "max              2023-07-15 00:00:00    169.000000  650.000000  2196.000000   \n",
       "std                              NaN     19.320646   77.727995   276.716179   \n",
       "\n",
       "       imdbRating     imdbVotes  \n",
       "count  508.000000  5.080000e+02  \n",
       "mean     6.150394  9.240788e+04  \n",
       "min      0.000000  0.000000e+00  \n",
       "25%      5.700000  1.927250e+03  \n",
       "50%      6.450000  1.517600e+04  \n",
       "75%      7.100000  1.014675e+05  \n",
       "max      8.800000  1.168644e+06  \n",
       "std      1.648913  1.843883e+05  "
      ]
     },
     "execution_count": 34,
     "metadata": {},
     "output_type": "execute_result"
    }
   ],
   "source": [
    "df.describe()"
   ]
  },
  {
   "cell_type": "code",
   "execution_count": 35,
   "id": "f2757aee",
   "metadata": {
    "execution": {
     "iopub.execute_input": "2023-10-17T08:38:02.499905Z",
     "iopub.status.busy": "2023-10-17T08:38:02.498930Z",
     "iopub.status.idle": "2023-10-17T08:38:02.514676Z",
     "shell.execute_reply": "2023-10-17T08:38:02.513648Z"
    },
    "papermill": {
     "duration": 0.034833,
     "end_time": "2023-10-17T08:38:02.516955",
     "exception": false,
     "start_time": "2023-10-17T08:38:02.482122",
     "status": "completed"
    },
    "tags": []
   },
   "outputs": [
    {
     "data": {
      "text/html": [
       "<div>\n",
       "<style scoped>\n",
       "    .dataframe tbody tr th:only-of-type {\n",
       "        vertical-align: middle;\n",
       "    }\n",
       "\n",
       "    .dataframe tbody tr th {\n",
       "        vertical-align: top;\n",
       "    }\n",
       "\n",
       "    .dataframe thead th {\n",
       "        text-align: right;\n",
       "    }\n",
       "</style>\n",
       "<table border=\"1\" class=\"dataframe\">\n",
       "  <thead>\n",
       "    <tr style=\"text-align: right;\">\n",
       "      <th></th>\n",
       "      <th>Title</th>\n",
       "      <th>Released</th>\n",
       "      <th>Running_time</th>\n",
       "      <th>Country</th>\n",
       "      <th>Language</th>\n",
       "      <th>Budget</th>\n",
       "      <th>Box_office</th>\n",
       "      <th>imdbRating</th>\n",
       "      <th>imdbVotes</th>\n",
       "      <th>Rated</th>\n",
       "    </tr>\n",
       "  </thead>\n",
       "  <tbody>\n",
       "    <tr>\n",
       "      <th>0</th>\n",
       "      <td>Snow White and the Seven D...</td>\n",
       "      <td>1937-12-21</td>\n",
       "      <td>83</td>\n",
       "      <td>United States</td>\n",
       "      <td>English</td>\n",
       "      <td>1.500</td>\n",
       "      <td>418.000000</td>\n",
       "      <td>7.6</td>\n",
       "      <td>209330</td>\n",
       "      <td>Approved</td>\n",
       "    </tr>\n",
       "    <tr>\n",
       "      <th>1</th>\n",
       "      <td>Pinocchio</td>\n",
       "      <td>1940-02-07</td>\n",
       "      <td>88</td>\n",
       "      <td>United States</td>\n",
       "      <td>English</td>\n",
       "      <td>2.600</td>\n",
       "      <td>164.000000</td>\n",
       "      <td>7.5</td>\n",
       "      <td>154739</td>\n",
       "      <td>G</td>\n",
       "    </tr>\n",
       "    <tr>\n",
       "      <th>2</th>\n",
       "      <td>Fantasia</td>\n",
       "      <td>1940-11-13</td>\n",
       "      <td>126</td>\n",
       "      <td>United States</td>\n",
       "      <td>English</td>\n",
       "      <td>2.280</td>\n",
       "      <td>83.300000</td>\n",
       "      <td>7.7</td>\n",
       "      <td>100976</td>\n",
       "      <td>G</td>\n",
       "    </tr>\n",
       "    <tr>\n",
       "      <th>3</th>\n",
       "      <td>The Reluctant Dragon</td>\n",
       "      <td>1941-06-27</td>\n",
       "      <td>74</td>\n",
       "      <td>United States</td>\n",
       "      <td>English</td>\n",
       "      <td>0.600</td>\n",
       "      <td>0.960000</td>\n",
       "      <td>6.8</td>\n",
       "      <td>3626</td>\n",
       "      <td>Approved</td>\n",
       "    </tr>\n",
       "    <tr>\n",
       "      <th>4</th>\n",
       "      <td>Dumbo</td>\n",
       "      <td>1941-10-23</td>\n",
       "      <td>64</td>\n",
       "      <td>United States</td>\n",
       "      <td>English</td>\n",
       "      <td>0.950</td>\n",
       "      <td>1.300000</td>\n",
       "      <td>7.2</td>\n",
       "      <td>137766</td>\n",
       "      <td>G</td>\n",
       "    </tr>\n",
       "    <tr>\n",
       "      <th>5</th>\n",
       "      <td>Bambi</td>\n",
       "      <td>1942-08-09</td>\n",
       "      <td>70</td>\n",
       "      <td>United States</td>\n",
       "      <td>English</td>\n",
       "      <td>0.858</td>\n",
       "      <td>267.399999</td>\n",
       "      <td>7.3</td>\n",
       "      <td>149446</td>\n",
       "      <td>G</td>\n",
       "    </tr>\n",
       "    <tr>\n",
       "      <th>6</th>\n",
       "      <td>Saludos Amigos</td>\n",
       "      <td>1942-08-24</td>\n",
       "      <td>42</td>\n",
       "      <td>United States</td>\n",
       "      <td>English</td>\n",
       "      <td>0.000</td>\n",
       "      <td>1.000000</td>\n",
       "      <td>6.0</td>\n",
       "      <td>7464</td>\n",
       "      <td>Passed</td>\n",
       "    </tr>\n",
       "    <tr>\n",
       "      <th>7</th>\n",
       "      <td>Victory Through Air Power</td>\n",
       "      <td>1943-07-17</td>\n",
       "      <td>65</td>\n",
       "      <td>United States</td>\n",
       "      <td>English</td>\n",
       "      <td>0.000</td>\n",
       "      <td>0.000000</td>\n",
       "      <td>6.5</td>\n",
       "      <td>1126</td>\n",
       "      <td>Unrated</td>\n",
       "    </tr>\n",
       "    <tr>\n",
       "      <th>8</th>\n",
       "      <td>The Three Caballeros</td>\n",
       "      <td>1944-12-21</td>\n",
       "      <td>71</td>\n",
       "      <td>United States</td>\n",
       "      <td>English</td>\n",
       "      <td>0.000</td>\n",
       "      <td>3.355000</td>\n",
       "      <td>6.3</td>\n",
       "      <td>14995</td>\n",
       "      <td>Approved</td>\n",
       "    </tr>\n",
       "    <tr>\n",
       "      <th>9</th>\n",
       "      <td>Make Mine Music</td>\n",
       "      <td>1946-04-20</td>\n",
       "      <td>75</td>\n",
       "      <td>United States</td>\n",
       "      <td>English</td>\n",
       "      <td>1.350</td>\n",
       "      <td>3.275000</td>\n",
       "      <td>6.2</td>\n",
       "      <td>4718</td>\n",
       "      <td>Passed</td>\n",
       "    </tr>\n",
       "  </tbody>\n",
       "</table>\n",
       "</div>"
      ],
      "text/plain": [
       "                           Title   Released  Running_time        Country  \\\n",
       "0  Snow White and the Seven D... 1937-12-21            83  United States   \n",
       "1                      Pinocchio 1940-02-07            88  United States   \n",
       "2                       Fantasia 1940-11-13           126  United States   \n",
       "3           The Reluctant Dragon 1941-06-27            74  United States   \n",
       "4                          Dumbo 1941-10-23            64  United States   \n",
       "5                          Bambi 1942-08-09            70  United States   \n",
       "6                 Saludos Amigos 1942-08-24            42  United States   \n",
       "7      Victory Through Air Power 1943-07-17            65  United States   \n",
       "8           The Three Caballeros 1944-12-21            71  United States   \n",
       "9                Make Mine Music 1946-04-20            75  United States   \n",
       "\n",
       "  Language  Budget  Box_office  imdbRating  imdbVotes     Rated  \n",
       "0  English   1.500  418.000000         7.6     209330  Approved  \n",
       "1  English   2.600  164.000000         7.5     154739         G  \n",
       "2  English   2.280   83.300000         7.7     100976         G  \n",
       "3  English   0.600    0.960000         6.8       3626  Approved  \n",
       "4  English   0.950    1.300000         7.2     137766         G  \n",
       "5  English   0.858  267.399999         7.3     149446         G  \n",
       "6  English   0.000    1.000000         6.0       7464    Passed  \n",
       "7  English   0.000    0.000000         6.5       1126   Unrated  \n",
       "8  English   0.000    3.355000         6.3      14995  Approved  \n",
       "9  English   1.350    3.275000         6.2       4718    Passed  "
      ]
     },
     "execution_count": 35,
     "metadata": {},
     "output_type": "execute_result"
    }
   ],
   "source": [
    "# Display final dataset\n",
    "df.head(10)"
   ]
  },
  {
   "cell_type": "markdown",
   "id": "31890b45",
   "metadata": {
    "papermill": {
     "duration": 0.016277,
     "end_time": "2023-10-17T08:38:02.550050",
     "exception": false,
     "start_time": "2023-10-17T08:38:02.533773",
     "status": "completed"
    },
    "tags": []
   },
   "source": [
    "# Data vizualizations"
   ]
  },
  {
   "cell_type": "code",
   "execution_count": 36,
   "id": "1023d6a6",
   "metadata": {
    "execution": {
     "iopub.execute_input": "2023-10-17T08:38:02.584964Z",
     "iopub.status.busy": "2023-10-17T08:38:02.584582Z",
     "iopub.status.idle": "2023-10-17T08:38:02.595313Z",
     "shell.execute_reply": "2023-10-17T08:38:02.593665Z"
    },
    "papermill": {
     "duration": 0.031271,
     "end_time": "2023-10-17T08:38:02.597575",
     "exception": false,
     "start_time": "2023-10-17T08:38:02.566304",
     "status": "completed"
    },
    "tags": []
   },
   "outputs": [],
   "source": [
    "# Exclude all zero values in Budget and Box office columns\n",
    "viz = df.query(\"Budget > 0 and Box_office > 0\")"
   ]
  },
  {
   "cell_type": "markdown",
   "id": "b6e4912a",
   "metadata": {
    "papermill": {
     "duration": 0.015968,
     "end_time": "2023-10-17T08:38:02.629632",
     "exception": false,
     "start_time": "2023-10-17T08:38:02.613664",
     "status": "completed"
    },
    "tags": []
   },
   "source": [
    "### Check Budget and Box office columns for outliers"
   ]
  },
  {
   "cell_type": "code",
   "execution_count": 37,
   "id": "55e4dc3b",
   "metadata": {
    "execution": {
     "iopub.execute_input": "2023-10-17T08:38:02.664924Z",
     "iopub.status.busy": "2023-10-17T08:38:02.664553Z",
     "iopub.status.idle": "2023-10-17T08:38:02.897023Z",
     "shell.execute_reply": "2023-10-17T08:38:02.895546Z"
    },
    "papermill": {
     "duration": 0.25285,
     "end_time": "2023-10-17T08:38:02.899347",
     "exception": false,
     "start_time": "2023-10-17T08:38:02.646497",
     "status": "completed"
    },
    "tags": []
   },
   "outputs": [
    {
     "data": {
      "image/png": "[encoded data removed]",
      "text/plain": [
       "<Figure size 640x480 with 1 Axes>"
      ]
     },
     "metadata": {},
     "output_type": "display_data"
    }
   ],
   "source": [
    "sns.boxplot(data=viz, x='Budget', orient='h')\n",
    "plt.show()"
   ]
  },
  {
   "cell_type": "code",
   "execution_count": 38,
   "id": "267d5a88",
   "metadata": {
    "execution": {
     "iopub.execute_input": "2023-10-17T08:38:02.934611Z",
     "iopub.status.busy": "2023-10-17T08:38:02.933516Z",
     "iopub.status.idle": "2023-10-17T08:38:03.151498Z",
     "shell.execute_reply": "2023-10-17T08:38:03.150292Z"
    },
    "papermill": {
     "duration": 0.23825,
     "end_time": "2023-10-17T08:38:03.153897",
     "exception": false,
     "start_time": "2023-10-17T08:38:02.915647",
     "status": "completed"
    },
    "tags": []
   },
   "outputs": [
    {
     "data": {
      "image/png": "[encoded data removed]",
      "text/plain": [
       "<Figure size 640x480 with 1 Axes>"
      ]
     },
     "metadata": {},
     "output_type": "display_data"
    }
   ],
   "source": [
    "sns.boxplot(data=viz, x='Box_office', orient='h')\n",
    "plt.show()"
   ]
  },
  {
   "cell_type": "markdown",
   "id": "d072cec8",
   "metadata": {
    "papermill": {
     "duration": 0.018014,
     "end_time": "2023-10-17T08:38:03.190200",
     "exception": false,
     "start_time": "2023-10-17T08:38:03.172186",
     "status": "completed"
    },
    "tags": []
   },
   "source": [
    "## Display Budget and Box office by years"
   ]
  },
  {
   "cell_type": "code",
   "execution_count": 39,
   "id": "91a90f56",
   "metadata": {
    "execution": {
     "iopub.execute_input": "2023-10-17T08:38:03.226002Z",
     "iopub.status.busy": "2023-10-17T08:38:03.225097Z",
     "iopub.status.idle": "2023-10-17T08:38:05.963840Z",
     "shell.execute_reply": "2023-10-17T08:38:05.963073Z"
    },
    "papermill": {
     "duration": 2.761435,
     "end_time": "2023-10-17T08:38:05.968634",
     "exception": false,
     "start_time": "2023-10-17T08:38:03.207199",
     "status": "completed"
    },
    "tags": []
   },
   "outputs": [
    {
     "data": {
      "image/png": "[encoded data removed]",
      "text/plain": [
       "<Figure size 2000x2600 with 2 Axes>"
      ]
     },
     "metadata": {},
     "output_type": "display_data"
    }
   ],
   "source": [
    "# Create figure and axes\n",
    "fig, ax = plt.subplots(1, 2, figsize=(20, 26), gridspec_kw={'width_ratios': [1, 2]})\n",
    "\n",
    "# Create budget boxplot \n",
    "sns.boxplot(data=viz, x='Budget', y=df['Released'].dt.year, orient='h', ax=ax[0])\n",
    "\n",
    "# Configure the plot\n",
    "ax[0].set_ylim(top=49.5)\n",
    "ax[0].invert_yaxis()\n",
    "ax[0].set_title('Movies Budget by years')\n",
    "ax[0].xaxis.tick_top()\n",
    "\n",
    "# Create box office plot\n",
    "sns.boxplot(data=viz, x='Box_office', y=df['Released'].dt.year, orient='h', ax=ax[1])\n",
    "\n",
    "# Configure the plot\n",
    "ax[1].set_ylim(top=49.5)\n",
    "ax[1].invert_yaxis()\n",
    "ax[1].set_title('Movies Box office by years')\n",
    "ax[1].set_xticks(ticks=np.arange(0, 2001, 100))\n",
    "ax[1].xaxis.tick_top()\n",
    "\n",
    "# Display the plots\n",
    "plt.show()"
   ]
  },
  {
   "cell_type": "markdown",
   "id": "23268dd9",
   "metadata": {
    "papermill": {
     "duration": 0.021975,
     "end_time": "2023-10-17T08:38:06.016047",
     "exception": false,
     "start_time": "2023-10-17T08:38:05.994072",
     "status": "completed"
    },
    "tags": []
   },
   "source": [
    "* As the time flies budget and box office are both raise.\n",
    "* Also it is a pronounced drop in budget and box office in 2014 and drop in box office in 2020-2022.\n",
    "* Drop in 2020-2022 should be due covid-19.\n",
    "* I could not find any valuable reason of drop in 2014 so it might be the year of low quality movies or some other random reasons."
   ]
  },
  {
   "cell_type": "markdown",
   "id": "2c807db0",
   "metadata": {
    "papermill": {
     "duration": 0.026573,
     "end_time": "2023-10-17T08:38:06.061664",
     "exception": false,
     "start_time": "2023-10-17T08:38:06.035091",
     "status": "completed"
    },
    "tags": []
   },
   "source": [
    "### Since there are extremely huge values in Budget and Box office columns i decided to exclude 5% from both sides so the calculations won't be skewed"
   ]
  },
  {
   "cell_type": "code",
   "execution_count": 40,
   "id": "98a9f007",
   "metadata": {
    "execution": {
     "iopub.execute_input": "2023-10-17T08:38:06.101531Z",
     "iopub.status.busy": "2023-10-17T08:38:06.100669Z",
     "iopub.status.idle": "2023-10-17T08:38:06.119478Z",
     "shell.execute_reply": "2023-10-17T08:38:06.118745Z"
    },
    "papermill": {
     "duration": 0.041707,
     "end_time": "2023-10-17T08:38:06.121948",
     "exception": false,
     "start_time": "2023-10-17T08:38:06.080241",
     "status": "completed"
    },
    "tags": []
   },
   "outputs": [
    {
     "data": {
      "text/plain": [
       "Released\n",
       "2019    177.600000\n",
       "2020    183.333333\n",
       "2021    137.500000\n",
       "2022    156.250000\n",
       "2023    178.900000\n",
       "Name: Budget, dtype: float64"
      ]
     },
     "execution_count": 40,
     "metadata": {},
     "output_type": "execute_result"
    }
   ],
   "source": [
    "budget = viz.query(\"Budget > Budget.quantile(0.05) and Budget < Budget.quantile(0.95)\").groupby(viz['Released'].dt.year)['Budget'].agg('mean')\n",
    "budget.tail()"
   ]
  },
  {
   "cell_type": "code",
   "execution_count": 41,
   "id": "728b3cfb",
   "metadata": {
    "execution": {
     "iopub.execute_input": "2023-10-17T08:38:06.174900Z",
     "iopub.status.busy": "2023-10-17T08:38:06.174176Z",
     "iopub.status.idle": "2023-10-17T08:38:06.188862Z",
     "shell.execute_reply": "2023-10-17T08:38:06.187922Z"
    },
    "papermill": {
     "duration": 0.043001,
     "end_time": "2023-10-17T08:38:06.191855",
     "exception": false,
     "start_time": "2023-10-17T08:38:06.148854",
     "status": "completed"
    },
    "tags": []
   },
   "outputs": [
    {
     "data": {
      "text/plain": [
       "Released\n",
       "2019    422.500000\n",
       "2020    110.966667\n",
       "2021    202.700000\n",
       "2022    106.700000\n",
       "2023    383.250000\n",
       "Name: Box_office, dtype: float64"
      ]
     },
     "execution_count": 41,
     "metadata": {},
     "output_type": "execute_result"
    }
   ],
   "source": [
    "box_office = viz.query(\"Box_office > Box_office.quantile(0.05) and Box_office < Box_office.quantile(0.95)\").groupby(viz['Released'].dt.year)['Box_office'].agg('mean')\n",
    "box_office.tail()"
   ]
  },
  {
   "cell_type": "code",
   "execution_count": 42,
   "id": "9e596c19",
   "metadata": {
    "execution": {
     "iopub.execute_input": "2023-10-17T08:38:06.250644Z",
     "iopub.status.busy": "2023-10-17T08:38:06.249772Z",
     "iopub.status.idle": "2023-10-17T08:38:07.615744Z",
     "shell.execute_reply": "2023-10-17T08:38:07.614592Z"
    },
    "papermill": {
     "duration": 1.392277,
     "end_time": "2023-10-17T08:38:07.618053",
     "exception": false,
     "start_time": "2023-10-17T08:38:06.225776",
     "status": "completed"
    },
    "tags": []
   },
   "outputs": [
    {
     "data": {
      "image/png": "[encoded data removed]",
      "text/plain": [
       "<Figure size 2000x800 with 2 Axes>"
      ]
     },
     "metadata": {},
     "output_type": "display_data"
    }
   ],
   "source": [
    "# Create figure and axes\n",
    "fig, ax = plt.subplots(1, 2, figsize=(20, 8))\n",
    "\n",
    "# Create budget lineplot by years \n",
    "sns.lineplot(y=budget, x=budget.index, ax=ax[0])\n",
    "\n",
    "# Configure the plot\n",
    "ax[0].set_xlim(1990, 2023)\n",
    "ax[0].set_xticks(ticks=np.arange(1990, 2024), labels = np.arange(1990, 2024), rotation='vertical')\n",
    "ax[0].set_title('Movies average budget by years')\n",
    "ax[0].set_ylabel('Budget (mil.)')\n",
    "\n",
    "# Create box office lineplot by years\n",
    "sns.lineplot(y=box_office, x=box_office.index, ax=ax[1])\n",
    "\n",
    "# Configure the plot\n",
    "ax[1].set_xlim(1990, 2023)\n",
    "ax[1].set_yticks(ticks=np.arange(0, 550, 25))\n",
    "ax[1].set_xticks(ticks=np.arange(1990, 2024), labels = np.arange(1990, 2024), rotation='vertical')\n",
    "ax[1].set_title('Movies average box office by years')\n",
    "ax[1].set_ylabel('Box office (mil.)')\n",
    "\n",
    "# Display the plots\n",
    "plt.show()"
   ]
  },
  {
   "cell_type": "markdown",
   "id": "bb8b1aec",
   "metadata": {
    "papermill": {
     "duration": 0.020594,
     "end_time": "2023-10-17T08:38:07.659550",
     "exception": false,
     "start_time": "2023-10-17T08:38:07.638956",
     "status": "completed"
    },
    "tags": []
   },
   "source": [
    "## Explore how many Disney movies were released each year starting from 1937"
   ]
  },
  {
   "cell_type": "code",
   "execution_count": 43,
   "id": "23fcddac",
   "metadata": {
    "execution": {
     "iopub.execute_input": "2023-10-17T08:38:07.705473Z",
     "iopub.status.busy": "2023-10-17T08:38:07.705076Z",
     "iopub.status.idle": "2023-10-17T08:38:07.716731Z",
     "shell.execute_reply": "2023-10-17T08:38:07.715735Z"
    },
    "papermill": {
     "duration": 0.036409,
     "end_time": "2023-10-17T08:38:07.718733",
     "exception": false,
     "start_time": "2023-10-17T08:38:07.682324",
     "status": "completed"
    },
    "tags": []
   },
   "outputs": [
    {
     "data": {
      "text/plain": [
       "Released\n",
       "1937.0    1\n",
       "1940.0    2\n",
       "1941.0    2\n",
       "1942.0    1\n",
       "1946.0    2\n",
       "Name: Title, dtype: int64"
      ]
     },
     "execution_count": 43,
     "metadata": {},
     "output_type": "execute_result"
    }
   ],
   "source": [
    "temp = df.groupby(viz['Released'].dt.year)['Title'].agg('count')\n",
    "temp.head()"
   ]
  },
  {
   "cell_type": "code",
   "execution_count": 44,
   "id": "ef3360bf",
   "metadata": {
    "execution": {
     "iopub.execute_input": "2023-10-17T08:38:07.761809Z",
     "iopub.status.busy": "2023-10-17T08:38:07.761214Z",
     "iopub.status.idle": "2023-10-17T08:38:08.859333Z",
     "shell.execute_reply": "2023-10-17T08:38:08.858206Z"
    },
    "papermill": {
     "duration": 1.122385,
     "end_time": "2023-10-17T08:38:08.861649",
     "exception": false,
     "start_time": "2023-10-17T08:38:07.739264",
     "status": "completed"
    },
    "tags": []
   },
   "outputs": [
    {
     "data": {
      "image/png": "[encoded data removed]",
      "text/plain": [
       "<Figure size 2300x500 with 1 Axes>"
      ]
     },
     "metadata": {},
     "output_type": "display_data"
    }
   ],
   "source": [
    "# Create figure\n",
    "plt.figure(figsize=(23, 5))\n",
    "\n",
    "# Create number of movies by years lineplot\n",
    "sns.lineplot(x=temp.index, y=temp, marker='o')\n",
    "\n",
    "# Configure the plot\n",
    "plt.xticks(ticks=np.arange(1937, 2024, 1), rotation='vertical')\n",
    "plt.yticks(ticks=np.arange(1, 11))\n",
    "plt.title('Number of movies released by years')\n",
    "\n",
    "# Display the plot\n",
    "plt.show()"
   ]
  },
  {
   "cell_type": "markdown",
   "id": "f97fba10",
   "metadata": {
    "papermill": {
     "duration": 0.021885,
     "end_time": "2023-10-17T08:38:08.905594",
     "exception": false,
     "start_time": "2023-10-17T08:38:08.883709",
     "status": "completed"
    },
    "tags": []
   },
   "source": [
    "## Explore how many movies were released by months"
   ]
  },
  {
   "cell_type": "code",
   "execution_count": 45,
   "id": "3d95b3f7",
   "metadata": {
    "execution": {
     "iopub.execute_input": "2023-10-17T08:38:08.952011Z",
     "iopub.status.busy": "2023-10-17T08:38:08.950993Z",
     "iopub.status.idle": "2023-10-17T08:38:08.961545Z",
     "shell.execute_reply": "2023-10-17T08:38:08.960578Z"
    },
    "papermill": {
     "duration": 0.035825,
     "end_time": "2023-10-17T08:38:08.963513",
     "exception": false,
     "start_time": "2023-10-17T08:38:08.927688",
     "status": "completed"
    },
    "tags": []
   },
   "outputs": [
    {
     "data": {
      "text/plain": [
       "Released\n",
       "1.0      9\n",
       "2.0     27\n",
       "3.0     24\n",
       "4.0     17\n",
       "5.0     29\n",
       "6.0     33\n",
       "7.0     28\n",
       "8.0     17\n",
       "9.0     10\n",
       "10.0    30\n",
       "11.0    37\n",
       "12.0    23\n",
       "Name: Title, dtype: int64"
      ]
     },
     "execution_count": 45,
     "metadata": {},
     "output_type": "execute_result"
    }
   ],
   "source": [
    "temp = df.groupby(viz['Released'].dt.month)['Title'].agg('count')\n",
    "temp"
   ]
  },
  {
   "cell_type": "code",
   "execution_count": 46,
   "id": "9cebaa22",
   "metadata": {
    "execution": {
     "iopub.execute_input": "2023-10-17T08:38:09.010311Z",
     "iopub.status.busy": "2023-10-17T08:38:09.009763Z",
     "iopub.status.idle": "2023-10-17T08:38:09.342043Z",
     "shell.execute_reply": "2023-10-17T08:38:09.340875Z"
    },
    "papermill": {
     "duration": 0.358345,
     "end_time": "2023-10-17T08:38:09.344438",
     "exception": false,
     "start_time": "2023-10-17T08:38:08.986093",
     "status": "completed"
    },
    "tags": []
   },
   "outputs": [
    {
     "data": {
      "image/png": "[encoded data removed]",
      "text/plain": [
       "<Figure size 640x480 with 1 Axes>"
      ]
     },
     "metadata": {},
     "output_type": "display_data"
    }
   ],
   "source": [
    "sns.lineplot(x=temp.index, y=temp, marker='o')\n",
    "plt.yticks(ticks=np.arange(min(temp), max(temp), 3))\n",
    "plt.xticks(ticks=np.arange(1, 13))\n",
    "plt.show()"
   ]
  },
  {
   "cell_type": "markdown",
   "id": "66263433",
   "metadata": {
    "papermill": {
     "duration": 0.024461,
     "end_time": "2023-10-17T08:38:09.392771",
     "exception": false,
     "start_time": "2023-10-17T08:38:09.368310",
     "status": "completed"
    },
    "tags": []
   },
   "source": [
    "## Explore rated categories distribution"
   ]
  },
  {
   "cell_type": "code",
   "execution_count": 47,
   "id": "085d489e",
   "metadata": {
    "execution": {
     "iopub.execute_input": "2023-10-17T08:38:09.441033Z",
     "iopub.status.busy": "2023-10-17T08:38:09.440702Z",
     "iopub.status.idle": "2023-10-17T08:38:09.815689Z",
     "shell.execute_reply": "2023-10-17T08:38:09.814590Z"
    },
    "papermill": {
     "duration": 0.401741,
     "end_time": "2023-10-17T08:38:09.817909",
     "exception": false,
     "start_time": "2023-10-17T08:38:09.416168",
     "status": "completed"
    },
    "tags": []
   },
   "outputs": [
    {
     "data": {
      "image/png": "[encoded data removed]",
      "text/plain": [
       "<Figure size 1000x600 with 1 Axes>"
      ]
     },
     "metadata": {},
     "output_type": "display_data"
    }
   ],
   "source": [
    "# Create figure\n",
    "plt.figure(figsize=(10, 6))\n",
    "\n",
    "# Create the plot \n",
    "ax = sns.countplot(x=df['Rated'], order=df['Rated'].value_counts().index)\n",
    "\n",
    "# Configure the plot\n",
    "vals = df['Rated'].value_counts().values\n",
    "ax.bar_label(container=ax.containers[0], labels=vals)\n",
    "plt.title('Amount of movies in each rated category')\n",
    "\n",
    "# Display the plot\n",
    "plt.show()"
   ]
  },
  {
   "cell_type": "markdown",
   "id": "c61eefc5",
   "metadata": {
    "papermill": {
     "duration": 0.02308,
     "end_time": "2023-10-17T08:38:09.864144",
     "exception": false,
     "start_time": "2023-10-17T08:38:09.841064",
     "status": "completed"
    },
    "tags": []
   },
   "source": [
    "## Check the correlation between Budget and Box_office"
   ]
  },
  {
   "cell_type": "code",
   "execution_count": 48,
   "id": "e8b27864",
   "metadata": {
    "execution": {
     "iopub.execute_input": "2023-10-17T08:38:09.912628Z",
     "iopub.status.busy": "2023-10-17T08:38:09.912259Z",
     "iopub.status.idle": "2023-10-17T08:38:09.922633Z",
     "shell.execute_reply": "2023-10-17T08:38:09.921486Z"
    },
    "papermill": {
     "duration": 0.03785,
     "end_time": "2023-10-17T08:38:09.925421",
     "exception": false,
     "start_time": "2023-10-17T08:38:09.887571",
     "status": "completed"
    },
    "tags": []
   },
   "outputs": [
    {
     "data": {
      "text/plain": [
       "0.7100858717200781"
      ]
     },
     "execution_count": 48,
     "metadata": {},
     "output_type": "execute_result"
    }
   ],
   "source": [
    "# Compute the correlation\n",
    "viz['Budget'].corr(df['Box_office'])"
   ]
  },
  {
   "cell_type": "code",
   "execution_count": 49,
   "id": "ca86a0b2",
   "metadata": {
    "execution": {
     "iopub.execute_input": "2023-10-17T08:38:09.977606Z",
     "iopub.status.busy": "2023-10-17T08:38:09.976968Z",
     "iopub.status.idle": "2023-10-17T08:38:10.807689Z",
     "shell.execute_reply": "2023-10-17T08:38:10.806580Z"
    },
    "papermill": {
     "duration": 0.859415,
     "end_time": "2023-10-17T08:38:10.810254",
     "exception": false,
     "start_time": "2023-10-17T08:38:09.950839",
     "status": "completed"
    },
    "tags": []
   },
   "outputs": [
    {
     "data": {
      "image/png": "[encoded data removed]",
      "text/plain": [
       "<Figure size 600x600 with 3 Axes>"
      ]
     },
     "metadata": {},
     "output_type": "display_data"
    }
   ],
   "source": [
    "# Create scatterplot with linear regression line\n",
    "sns.jointplot(data=viz, x=budget, y=box_office, kind='reg')\n",
    "\n",
    "# Configure the plot\n",
    "plt.title('Correlation between movies budget and box office', y=1.21, fontsize=14)\n",
    "plt.xlabel('Budget (mil.)')\n",
    "plt.ylabel('Box office (mil.)')\n",
    "\n",
    "# Display the plot\n",
    "plt.show()"
   ]
  },
  {
   "cell_type": "markdown",
   "id": "254649ee",
   "metadata": {
    "papermill": {
     "duration": 0.024909,
     "end_time": "2023-10-17T08:38:10.860671",
     "exception": false,
     "start_time": "2023-10-17T08:38:10.835762",
     "status": "completed"
    },
    "tags": []
   },
   "source": [
    "## Make a correlation heatmap"
   ]
  },
  {
   "cell_type": "code",
   "execution_count": 50,
   "id": "6e7d6115",
   "metadata": {
    "execution": {
     "iopub.execute_input": "2023-10-17T08:38:10.912338Z",
     "iopub.status.busy": "2023-10-17T08:38:10.911997Z",
     "iopub.status.idle": "2023-10-17T08:38:11.283517Z",
     "shell.execute_reply": "2023-10-17T08:38:11.282478Z"
    },
    "papermill": {
     "duration": 0.400095,
     "end_time": "2023-10-17T08:38:11.285685",
     "exception": false,
     "start_time": "2023-10-17T08:38:10.885590",
     "status": "completed"
    },
    "tags": []
   },
   "outputs": [
    {
     "data": {
      "image/png": "[encoded data removed]",
      "text/plain": [
       "<Figure size 1600x1000 with 2 Axes>"
      ]
     },
     "metadata": {},
     "output_type": "display_data"
    }
   ],
   "source": [
    "# Make a figure\n",
    "plt.figure(figsize=(16, 10))\n",
    "\n",
    "# Create a plot\n",
    "sns.heatmap(data=viz.iloc[:, 5:9].corr(), annot=True, cmap='Blues')\n",
    "\n",
    "# Display the plot\n",
    "plt.show()"
   ]
  }
 ],
 "metadata": {
  "kernelspec": {
   "display_name": "Python 3.11.4 64-bit",
   "language": "python",
   "name": "python3"
  },
  "language_info": {
   "codemirror_mode": {
    "name": "ipython",
    "version": 3
   },
   "file_extension": ".py",
   "mimetype": "text/x-python",
   "name": "python",
   "nbconvert_exporter": "python",
   "pygments_lexer": "ipython3",
   "version": "3.11.4"
  },
  "papermill": {
   "default_parameters": {},
   "duration": 16.593122,
   "end_time": "2023-10-17T08:38:11.934230",
   "environment_variables": {},
   "exception": null,
   "input_path": "__notebook__.ipynb",
   "output_path": "__notebook__.ipynb",
   "parameters": {},
   "start_time": "2023-10-17T08:37:55.341108",
   "version": "2.4.0"
  },
  "vscode": {
   "interpreter": {
    "hash": "c3fc5f7fae0ab3ead6725e079abbf99b70025fa194444b088b8b57bba4299b69"
   }
  }
 },
 "nbformat": 4,
 "nbformat_minor": 5
}
